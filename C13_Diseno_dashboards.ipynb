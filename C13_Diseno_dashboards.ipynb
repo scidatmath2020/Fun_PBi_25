{
 "cells": [
  {
   "cell_type": "markdown",
   "id": "68bb2fdf-44a1-41d0-9628-80e12afb2a56",
   "metadata": {},
   "source": [
    "![imagenes](logo.png)"
   ]
  },
  {
   "cell_type": "markdown",
   "id": "8e2e703f-3809-4c8f-a505-ec20982ac3ea",
   "metadata": {},
   "source": [
    "# Diseño de dashboards\n",
    "\n",
    "Los dashboards son herramientas de análisis diseñadas para consolidar datos de múltiples fuentes, monitorear métricas clave de un vistazo y facilitar la narración basada en datos y la toma de decisiones.\n",
    "\n",
    "Hablemos unos momentos de un tema sumamente importante. La visualización de datos es arte y ciencia a parte iguales, y antes de empezar a volcar datos en un lienzo o elegir algún tipo de gráfico que pueda ser bonito o llene una página, hay que dar un paso atrás y plantearse tres preguntas clave:\n",
    "\n",
    "1. **¿Con qué tipo de dato de dato estás trabajando?** geoespacial, series de tiempo, jerarquías, finanzas, etc.\n",
    "2. **¿Qué es lo que quieres comunicar?** comparaciones, composiciones, relaciones, distribuciones, etc.\n",
    "3. **¿Quién es mi público final y exáctamente qué necesita?** es un informe para un analista, para un ejecutivo, para público en general, etc.\n",
    "\n"
   ]
  },
  {
   "cell_type": "markdown",
   "id": "5a5b6b49-3a32-41ad-a422-e34b34579c32",
   "metadata": {},
   "source": [
    "## Estructura de diseño de dashboards\n",
    "\n",
    "Un dashboard bien diseñado debe cumplir un propósito claro para un público específico, utilizar métricas y visualizaciones claras y efectivas, y ofrecer una experiencia de usuario sencilla e intuitiva.\n",
    "\n",
    "Preguntas clave a considerar:\n",
    "\n",
    "¿Quiénes son los usuarios finales de tu dashboard?\n",
    "\n",
    "¿Cuáles son sus objetivos y metas clave?\n",
    "\n",
    "¿Qué preguntas críticas necesitan responder?\n",
    "\n",
    "¿Cómo puedo presentar la información de la manera más clara posible?\n",
    "\n",
    "\"La perfección se alcanza no cuando no hay nada más que añadir, sino cuando no hay nada más que quitar\" (Antoine de Saint-Exupéry)\n",
    "\n",
    "1. Define el propósito.\n",
    "2. Elige las métricas correctas.\n",
    "3. Presenta los datos de manera efectiva.\n",
    "4. Elimina el desorden y el ruido.\n",
    "5. Organiza el diseño para enfocar la atención.\n",
    "6. Cuenta una historia clara.\n"
   ]
  },
  {
   "attachments": {},
   "cell_type": "markdown",
   "id": "1d3761a0-6cac-44e7-b57b-cf6ba619f7ee",
   "metadata": {},
   "source": [
    "## Vista de reportes\n",
    "\n",
    "<img src=\"im126.png\" style=\"display:block; margin:auto;\" width=\"2000\">"
   ]
  }
 ],
 "metadata": {
  "kernelspec": {
   "display_name": "Python [conda env:base] *",
   "language": "python",
   "name": "conda-base-py"
  },
  "language_info": {
   "codemirror_mode": {
    "name": "ipython",
    "version": 3
   },
   "file_extension": ".py",
   "mimetype": "text/x-python",
   "name": "python",
   "nbconvert_exporter": "python",
   "pygments_lexer": "ipython3",
   "version": "3.12.3"
  }
 },
 "nbformat": 4,
 "nbformat_minor": 5
}
