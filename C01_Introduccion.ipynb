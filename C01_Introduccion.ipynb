{
 "cells": [
  {
   "cell_type": "markdown",
   "id": "7324194d-b20b-4718-93a2-b0288ce98241",
   "metadata": {},
   "source": [
    "![imagenes](logo.png)"
   ]
  },
  {
   "cell_type": "markdown",
   "id": "30c07d7c-3eb7-49fd-b8ea-ba838df59a30",
   "metadata": {},
   "source": [
    "# Introducción\n",
    "\n",
    "Acabas de ser contratado como Analista de Inteligencia Empresarial por AdventureWorks, una compañía global de manufactura que produce equipos y accesorios para ciclismo.\n",
    "\n",
    "El equipo directivo necesita una forma de:\n",
    "\n",
    "* Monitorear **KPIs** (ventas, ingresos, ganancias, devoluciones).\n",
    "* Comparar el desempeño regional.\n",
    "* Analizar tendencias a nivel de producto.\n",
    "* Identificar clientes de alto valor.\n",
    "\n",
    "Todo lo que te han proporcionado es una carpeta con archivos CSV sin procesar, que contienen información sobre transacciones, devoluciones, productos, clientes y territorios de ventas.\n",
    "\n",
    "Tu objetivo es usar Power BI Desktop para:\n",
    "* Conectar y transformar los datos en bruto.\n",
    "* Construir un modelo de datos relacional.\n",
    "* Crear columnas calculadas y medidas con DAX.\n",
    "* Diseñar un panel interactivo para visualizar los datos.\n"
   ]
  },
  {
   "cell_type": "markdown",
   "id": "1271f89c-e771-4681-9555-900a1706347c",
   "metadata": {},
   "source": [
    "## Primeras configuraciones\n",
    "\n",
    "Antes de avanzar con nuestro trabajo, vamos a realizar algunas configuraciones en nuestro Power BI. Para esto, abre Power Bi y ubica la opción de **Opciones y Configuraciones**. Da clic en dicho menú y dirígete al submenú de **Opciones**\n",
    "\n",
    "<img src=\"im010.png\" style=\"display:block; margin:auto;\" width=\"850\">"
   ]
  },
  {
   "cell_type": "markdown",
   "id": "0ba0395d-8f05-42c5-a6be-0f4c4cf49106",
   "metadata": {},
   "source": [
    "Ahora ubica la sección de **Características de versión preliminar** y activa **todas** las casillas. **No des clic en Aceptar**\n",
    "\n",
    "<img src=\"im011.png\" style=\"display:block; margin:auto;\" width=\"700\">"
   ]
  },
  {
   "cell_type": "markdown",
   "id": "2c8c6134-c450-4032-8f1d-4eeb5a3841dc",
   "metadata": {},
   "source": [
    "Ahora, dirígete a **Carga de datos** y desactiva las casillas de *Actualizar o eliminar las relaciones al actualizar*, *Detectar automáticamente nuevas relaciones* y *Fecha y hora automáticas*. **No des clic en Aceptar**\n",
    "\n",
    "<img src=\"im012.png\" style=\"display:block; margin:auto;\" width=\"600\">"
   ]
  },
  {
   "cell_type": "markdown",
   "id": "84a49876-6af6-4f3e-9e0c-aeafc24bd6ea",
   "metadata": {},
   "source": [
    "Finalmente, dirígete a **Configuración regional** y selecciona **Inglés (Estados Unidos)**. Ahora sí, **haz clic en Aceptar**\n",
    "\n",
    "<img src=\"im013.png\" style=\"display:block; margin:auto;\" width=\"500\">"
   ]
  },
  {
   "cell_type": "markdown",
   "id": "a5f4647d-0b7d-4656-b49f-655aa02ee480",
   "metadata": {},
   "source": [
    "**Importante.** De las configuraciones anteriores, observa que **Carga de datos** y **Configuración regional** están en la zona de **Archivo Actual**. Por lo tanto, se trata de configuraciones que tendrás que hacer cada vez que trabajes en un nuevo proyecto. "
   ]
  },
  {
   "cell_type": "markdown",
   "id": "0374387c-fae1-4ab8-b5a9-c4e88303b234",
   "metadata": {},
   "source": [
    "Una vez hechas estas configuraciones vamos a irnos a **Archivo** y guardar nuestro archivo con el nombre de *AdventureWorks Report.pbix* (observa que no es necesario escribir la extensión .pbix)"
   ]
  },
  {
   "cell_type": "markdown",
   "id": "1b4151a1-17e0-4204-87f4-52b250fbe58c",
   "metadata": {},
   "source": [
    "## Flujo de trabajo en Power Bi\n",
    "\n",
    "Hablemos ahora del flujo de trabajo. Los **datos en bruto** (raw data), que son con los que usualmente vamos a iniciar el trabajo, son extraídos y procesados en lo que se conoce como el **Editor de consultas** de Power Bi (query editor), y posteriormente son llevados al *front end*.\n",
    "\n",
    "<img src=\"im014.png\" style=\"display:block; margin:auto;\" width=\"800\">\n",
    "\n",
    "En el Editor de consultas es donde vamos a extraer y transformar los datos. Es decir, los pasos de un ETL (procesamiento de una base de datos). Una vez hecho esto, los datos procesados serán **cargados** en el Front End, donde tendremos tres vistas principales: la vista del modelo (relaciones entre las tablas de la base de datos), la vista de datos (parecido a una hoja de cálculo) y la vista de informe.\n",
    "\n",
    "De esta manera, el flujo de trabajo consiste en cuatro pasos fundamentales:\n",
    "\n",
    "<img src=\"im015.png\" style=\"display:block; margin:auto;\" width=\"800\">"
   ]
  },
  {
   "cell_type": "markdown",
   "id": "93d3fef7-df72-4e7a-b368-2ce05725c2bd",
   "metadata": {},
   "source": [
    "## Front-End y Back-End\n",
    "\n",
    "Antes de continuar con nuestro estudio del Editor de Consultas, conviene entender los dos entornos, o filosofías, que trabaja Power Bi. Estos son el **Front-End** y el **Back-End**.\n",
    "\n",
    "El **Front-End** incluye los datos, los modelos y los reportes, y es donde la mayoría de las visualizaciones toman lugar. Por su parte, el **Back-End** incluye el editor de consultas, que es, como ya dijimos, donde se los datos son extraídos, transformados y cargados hacia el Front-End.\n",
    "\n",
    "<img src=\"im016.png\" style=\"display:block; margin:auto;\" width=\"800\">"
   ]
  }
 ],
 "metadata": {
  "kernelspec": {
   "display_name": "Python [conda env:base] *",
   "language": "python",
   "name": "conda-base-py"
  },
  "language_info": {
   "codemirror_mode": {
    "name": "ipython",
    "version": 3
   },
   "file_extension": ".py",
   "mimetype": "text/x-python",
   "name": "python",
   "nbconvert_exporter": "python",
   "pygments_lexer": "ipython3",
   "version": "3.12.3"
  }
 },
 "nbformat": 4,
 "nbformat_minor": 5
}
