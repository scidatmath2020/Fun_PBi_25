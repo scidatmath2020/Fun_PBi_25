{
 "cells": [
  {
   "cell_type": "markdown",
   "id": "7b429062-eac3-4b86-99aa-3b8c05f9bb6e",
   "metadata": {},
   "source": [
    "![imagenes](logo.png)"
   ]
  },
  {
   "cell_type": "markdown",
   "id": "ed997648-f9dc-45d3-a5e9-7c2e583be955",
   "metadata": {},
   "source": [
    "# DAX\n",
    "\n",
    "Las funciones de DAX se clasifican en las siguientes categorías:\n",
    "\n",
    "<img src=\"im092.png\" style=\"display:block; margin:auto;\" width=\"2000\">"
   ]
  },
  {
   "cell_type": "markdown",
   "id": "aff75c68-2c6c-4928-809c-8b9c67350851",
   "metadata": {},
   "source": [
    "## Funciones matemáticas y estadísticas\n",
    "\n",
    "La forma más natural de iniciarse en el manejo de funciones DAX es mediante las funciones matemáticas y estadísticas. Las más importantes, como siempre, son ``SUM``, ``AVERAGE``, ``MAX``, ``MIN`` y, en este caso, también se cuenta con ``DIVIDE``. Esta última permite realizar una división segura; es decir, evita errores cuando el divisor es cero o está en blanco.\n",
    "\n",
    "No olvides la buena práctica de tener una **Tabla de medidas**. \n",
    "\n",
    "### Funciones de conteo\n",
    "\n",
    "Entre las funciones matemáticas y estadísticas, hay una colección de funciones especiales que nos permiten realizar conteos: ``COUNT``, ``COUNTA``, ``COUNTROWS`` y ``DISTINCTCOUNT``:\n",
    "\n",
    "- ``COUNT`` cuenta los valores numéricos de una columna. No toma en cuenta ningún otro valor (tampoco los vacíos)\n",
    "- ``COUNTA`` cuenta los valores no vacíos de una columna.\n",
    "- ``COUNTROWS`` cuenta las filas de una tabla.\n",
    "- ``DISTINCTCOUNT`` cuenta cuántos valores diferentes hay en una columna.\n",
    "\n",
    "**Ejemplo de medidas construidas con funciones matemáticas**\n",
    "\n",
    "<img src=\"im093.png\" style=\"display:block; margin:auto;\" width=\"1000\">"
   ]
  },
  {
   "cell_type": "markdown",
   "id": "cd66d7a1-1453-4fbb-801e-44113eb8e809",
   "metadata": {},
   "source": [
    "**Actividad 12.01**\n",
    "\n",
    "<img src=\"im094.png\" style=\"display:block; margin:auto;\" width=\"1000\">"
   ]
  }
 ],
 "metadata": {
  "kernelspec": {
   "display_name": "Python [conda env:base] *",
   "language": "python",
   "name": "conda-base-py"
  },
  "language_info": {
   "codemirror_mode": {
    "name": "ipython",
    "version": 3
   },
   "file_extension": ".py",
   "mimetype": "text/x-python",
   "name": "python",
   "nbconvert_exporter": "python",
   "pygments_lexer": "ipython3",
   "version": "3.12.3"
  }
 },
 "nbformat": 4,
 "nbformat_minor": 5
}
