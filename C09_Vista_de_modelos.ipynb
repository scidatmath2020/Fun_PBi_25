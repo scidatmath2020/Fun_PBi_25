{
 "cells": [
  {
   "cell_type": "markdown",
   "id": "7ce657ff-3a55-43fd-a6e7-096cc47164bf",
   "metadata": {},
   "source": [
    "![imagenes](logo.png)"
   ]
  },
  {
   "cell_type": "markdown",
   "id": "c9e879c5-ccc0-4925-aa6e-d94057859812",
   "metadata": {},
   "source": [
    "# Vista de modelos\n",
    "\n",
    "La vista de modelos es una ventana auxiliar dentro de Power Bi que nos permite construir los modelos. Esto es, visualizar las tablas y las relaciones entre ellas.\n",
    "\n",
    "<img src=\"im064.png\" style=\"display:block; margin:auto;\" width=\"1200\">"
   ]
  },
  {
   "cell_type": "markdown",
   "id": "5018d180-cf9f-4f8c-9015-484ee95a65b6",
   "metadata": {},
   "source": [
    "## Creación de relaciones\n",
    "\n",
    "Una vez que hemos identificado las llaves primarias, utilizaremos estas para crear las relaciones entre las tablas.\n",
    "\n",
    "En Power Bi tenemos dos opciones para realizar esto:\n",
    "\n",
    "<img src=\"im065.png\" style=\"display:block; margin:auto;\" width=\"800\">\n"
   ]
  },
  {
   "cell_type": "markdown",
   "id": "bca2dd4f-6c2b-4af3-931a-5e14585bf1f0",
   "metadata": {},
   "source": [
    "## Edición de Relaciones\n",
    "\n",
    "Observemos las tablas **Calendar Lookup** y **Sales Data**. La llave primaria de **Calendar Lookup** es ``Date``, y esta puede ser relacionada con **Sales Data** mediante las foráneas ``OrderDate`` o ``StockDate``.\n",
    "\n",
    "Supongamos que hemos realizado la conexión utilizando la foránea ``OrderDate``, pero por alguna razón debemos modificar dicha relación. Esto se puede hacer nuevamente utilizando la herramienta de **Administrar Relaciones**, editando la relación que nos interesa cambiar y simplemente seleccionando la nueva columna foránea.\n",
    "\n",
    "<img src=\"im066.png\" style=\"display:block; margin:auto;\" width=\"800\">"
   ]
  },
  {
   "cell_type": "markdown",
   "id": "d8b5aa2e-dcf6-40af-bd50-2a69d24ad543",
   "metadata": {},
   "source": [
    "## Esquemas de estrella y de copo de nieve\n",
    "\n",
    "Los esquemas de estrella y copo de nieve se refieren a la manera en que organizamos nuestro lienzo de modelo. Nos permiten observar rápidamente las relaciones internas. \n",
    "\n",
    "* **Esquema de estrella.** Es el modelo más sencillo y más común. Se caracteriza por ser una única tabla de hechos rodeada de las tablas de dimensiones.\n",
    "\n",
    "<img src=\"im067.png\" style=\"display:block; margin:auto;\" width=\"500\">"
   ]
  },
  {
   "cell_type": "markdown",
   "id": "4dceaba6-e573-4c73-be0e-a2008e23b7d2",
   "metadata": {},
   "source": [
    "* **Esquema de copo de nieve.** Es una extensión del modelo de estrella. Se utiliza cuando existen relaciones entre las tablas de dimensión y subdimensión. Es decir, es una estrella que se va *ramificando*.\n",
    "\n",
    "<img src=\"im068.png\" style=\"display:block; margin:auto;\" width=\"500\">"
   ]
  },
  {
   "cell_type": "markdown",
   "id": "947c4aaa-1166-4062-b649-622f9ec4c91f",
   "metadata": {},
   "source": [
    "**Actividad 09.01**\n",
    "\n",
    "<img src=\"im069.png\" style=\"display:block; margin:auto;\" width=\"400\">"
   ]
  },
  {
   "cell_type": "markdown",
   "id": "628b209b-0d4b-416d-a6e5-628d7e28fef8",
   "metadata": {},
   "source": [
    "## Relaciones activas e inactivas\n",
    "\n",
    "Vamos a habar de las relaciones activas e inactivas. Concentrémonos de nuevo en la relación entre **Calendar Lookup** y **Sales Data**. La llave primaria de **Calendar Lookup** es ``Date``, y esta puede ser relacionada con **Sales Data** mediante las foráneas ``OrderDate`` o ``StockDate``. \n",
    "\n",
    "La cuestión es que aunque ambas relaciones pueden existir al mismo tiempo, **únicamente una de ellas puede estar activa**. Es por esta razón que observamos que una de las dos relaciones aparede *punteada*.\n",
    "\n",
    "<img src=\"im070.png\" style=\"display:block; margin:auto;\" width=\"400\">"
   ]
  },
  {
   "cell_type": "markdown",
   "id": "c6ab76d0-1c26-43df-8955-08cfcdee66a9",
   "metadata": {},
   "source": [
    "Para pasar una relación de activa a inactiva, o viceversa, basta con hacer doble clic en la relación y cambiar su estado. Pero ojo: **antes de activar una relación entre dos tablas asegúrate primero de desactivar la otra relación**."
   ]
  },
  {
   "cell_type": "markdown",
   "id": "837efb33-2422-4174-ab97-45cf45a79f7c",
   "metadata": {},
   "source": [
    "Te puedes preguntar ¿para qué me sirve tener relaciones activas e inactivas?\n",
    "\n",
    "Bueno, en primer lugar, es posible que más adelante desees aplicar *funciones DAX* que se basen en una u otra relación"
   ]
  },
  {
   "cell_type": "markdown",
   "id": "63ab7c2c-5eb1-49b1-8bf7-2a43dafe74e8",
   "metadata": {},
   "source": [
    "## Cardinalidad\n",
    "\n",
    "La cardinalidad de las relaciones se refiere a la unicidad de valores dentro de una columna. \n",
    "\n",
    "En un modelo **ideal**, todas las relaciones del modelo son de cardinalidad *uno a muchas*: **una** instancia de cada valor de la llave primaria y **muchas** instancias de cada valor de la llave foránea.\n",
    "\n",
    "Por ejemplo, en el diagrama de abajo tenemos que cada valor de la llave primaria ``ProductKey`` de **Product Lookup** aparece una sola vez dentro de la tabla. En tanto que cada elemento de la llave foránea ``ProductKey`` de **Sales Data** aparece una muchas veces dentro de la tabla. De hecho ese es el significado de los símbolos 1 y $\\ast$ en los recuadros.\n",
    "\n",
    "<img src=\"im071.png\" style=\"display:block; margin:auto;\" width=\"400\">"
   ]
  },
  {
   "cell_type": "markdown",
   "id": "681815bf-e170-48ca-9f76-b3dc94241470",
   "metadata": {},
   "source": [
    "### Cardinalidad 1 a 1\n",
    "\n",
    "En este caso, significa que  hay **una** instancia de cada valor de la llave primaria y **una** instancia de cada valor de la llave foránea.\n",
    "\n",
    "<img src=\"im072.png\" style=\"display:block; margin:auto;\" width=\"1000\">"
   ]
  },
  {
   "cell_type": "markdown",
   "id": "9d3efb1e-4ac7-4405-94eb-7146bffbba7c",
   "metadata": {},
   "source": [
    "Puedes observar que cada elemento de ambas llaves aparece una única vez (independientemete de que sean los mismos elementos). Por lo tanto, si utilizamos estas columnas para realizar la relación, todo funcionará bien.\n",
    "\n",
    "Sin embargo, este tipo de relaciones se pueden simplificar: **podríamos fusionar ambas tablas en una sola**, y nota que no se estaría violando nuestra regla de normalización (cada tabla tiene un único propósito).\n",
    "\n",
    "<img src=\"im073.png\" style=\"display:block; margin:auto;\" width=\"1000\">"
   ]
  },
  {
   "cell_type": "markdown",
   "id": "330f3807-d3e0-4ba4-98bf-6d06c41868dd",
   "metadata": {},
   "source": [
    "### Cardinalidad muchos a muchos\n",
    "\n",
    "En este caso, significa que  hay **muchas** instancias de algunos valores de la llave primaria y **muchas** instancias de algunos valores de la llave foránea.\n",
    "\n",
    "<img src=\"im074.png\" style=\"display:block; margin:auto;\" width=\"1000\">"
   ]
  },
  {
   "cell_type": "markdown",
   "id": "3a87b6a5-dec7-4329-9441-846adee63eae",
   "metadata": {},
   "source": [
    "Este caso suele ser un indicador de que las tablas no se pueden relacionar."
   ]
  }
 ],
 "metadata": {
  "kernelspec": {
   "display_name": "Python [conda env:base] *",
   "language": "python",
   "name": "conda-base-py"
  },
  "language_info": {
   "codemirror_mode": {
    "name": "ipython",
    "version": 3
   },
   "file_extension": ".py",
   "mimetype": "text/x-python",
   "name": "python",
   "nbconvert_exporter": "python",
   "pygments_lexer": "ipython3",
   "version": "3.12.3"
  }
 },
 "nbformat": 4,
 "nbformat_minor": 5
}
