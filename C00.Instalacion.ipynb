{
 "cells": [
  {
   "cell_type": "markdown",
   "id": "da6ea0f5-f195-4d77-85d1-999576c37de8",
   "metadata": {},
   "source": [
    "![imagenes](logo.png)"
   ]
  },
  {
   "cell_type": "markdown",
   "id": "f4dca434-d4d5-441c-b7c6-0d3555307688",
   "metadata": {},
   "source": [
    "# C00. Instalación de Power BI\n",
    "\n",
    "Bienvenido al Diplomado en línea **Análisis de datos con Power BI** de **SciData**.\n",
    "\n",
    "En este capítulo introductorio presentaremos cómo instalar Power BI tanto en Windows como en Mac. Sigue estos sencillos pasos."
   ]
  },
  {
   "cell_type": "markdown",
   "id": "8cc4c57a-2b65-45f1-b649-4b12e79e8efa",
   "metadata": {},
   "source": [
    "## Instalación en Windows\n",
    "\n",
    "Comenzaremos con Windows. Tenemos dos maneras de hacerlo.\n",
    "\n",
    "### Instalación mediante la tienda de windows\n",
    "\n",
    "1. Para esto, nos vamos a dirigir a la tienda de windows. La puedes ubicar mediante este ícono. Da clic en él.\n",
    "\n",
    "<img src=\"im001.png\" style=\"display:block; margin:auto;\">"
   ]
  },
  {
   "cell_type": "markdown",
   "id": "51bdb08d-6f72-47de-aeb6-4bbf5caad9ab",
   "metadata": {},
   "source": [
    "2. Una vez que has abierto la appstore de Windows, ubica la zona para hacer búsquedas, y teclea en ella *Power Bi Desktop**\n",
    "\n",
    "<img src=\"im002.png\" style=\"display:block; margin:auto;\">\n",
    "\n",
    "Ya que te haya aparecido, da clic ahí\n",
    "\n",
    "<img src=\"im003.png\" style=\"display:block; margin:auto;\">"
   ]
  },
  {
   "cell_type": "markdown",
   "id": "1eb08bc6-d355-40d2-a9a4-3906f9f343e0",
   "metadata": {},
   "source": [
    "3. Te deberá aparecer algo como en la siguiente imagen\n",
    "\n",
    "<img src=\"im004.png\" style=\"display:block; margin:auto;\">\n",
    "\n",
    "Da clic en el ícono azul de **Instalar**"
   ]
  },
  {
   "cell_type": "markdown",
   "id": "6c94797d-c532-47df-b87a-f39cb5a1a801",
   "metadata": {},
   "source": [
    "4. Una vez finalizada la instalación, te aparecerá el ícono de **Abrir** tal como en la siguiente imagen\n",
    "\n",
    "<img src=\"im005.png\" style=\"display:block; margin:auto;\">\n",
    "\n",
    "Haz clic en dicho ícono. Después de unos momentos se te deberá abrir el programa y terminamos. Lo puedes cerrar de la forma habitual.\n",
    "\n",
    "<img src=\"im006.png\" style=\"display:block; margin:auto;\">"
   ]
  },
  {
   "cell_type": "markdown",
   "id": "786dc6ea-c2ef-46e6-9098-f216a10d6399",
   "metadata": {},
   "source": [
    "### Instalación en Windows mediante la página de Microsoft\n",
    "\n",
    "1. Simplemente dirígete a https://powerbi.microsoft.com\n",
    "\n",
    "Te deberá llevar a la siguiente página\n",
    "\n",
    "<img src=\"im007.png\" style=\"display:block; margin:auto;\">"
   ]
  },
  {
   "cell_type": "markdown",
   "id": "b9c664c0-e037-4ad9-97d1-cf1440653eab",
   "metadata": {},
   "source": [
    "2. Ahora, observa que hay un menú llamado **productos**. Abrelo, luego selecciona **Power BI** y finalmente **Desktop**\n",
    "\n",
    "<img src=\"im008.png\" style=\"display:block; margin:auto;\">"
   ]
  },
  {
   "cell_type": "markdown",
   "id": "d58bc36a-8391-49e9-93c0-5747e821bfba",
   "metadata": {},
   "source": [
    "3. Deberás haber llegado a esta pantalla. Ahora simplemente haz clic en el ícono de **Descargar ahora**.\n",
    "\n",
    "<img src=\"im009.png\" style=\"display:block; margin:auto;\">\n"
   ]
  },
  {
   "cell_type": "markdown",
   "id": "97a72a6c-57ba-4195-b4f8-55a96a4fe4f3",
   "metadata": {},
   "source": [
    "Una vez hecho esto, los pasos que siguen para terminar la instalación son los mismos que haber hecho la instalación con la Appstore de Windows tal como lo mostramos más arriba. "
   ]
  },
  {
   "cell_type": "markdown",
   "id": "dcbfb624-087b-4fb3-a653-f9cf1ea521c7",
   "metadata": {},
   "source": [
    "## Instalación en Mac\n",
    "\n",
    "Para poder instalar en Mac, utilizaremos una **máquina virtual de Windows**. Es decir, un programa especial que instalarás en Mac para que simule que estas utilizando Windows. \n",
    "\n",
    "Con esto en mente, puedes seguir este tutorial: https://www.youtube.com/watch?v=6JljYh4BZPc\n",
    "\n",
    "# Finalmente\n",
    "\n",
    "No olvides que puedes preguntar tus dudas en nuestro foro de preguntas: https://www.facebook.com/groups/2476414855808297/"
   ]
  }
 ],
 "metadata": {
  "kernelspec": {
   "display_name": "Python [conda env:base] *",
   "language": "python",
   "name": "conda-base-py"
  },
  "language_info": {
   "codemirror_mode": {
    "name": "ipython",
    "version": 3
   },
   "file_extension": ".py",
   "mimetype": "text/x-python",
   "name": "python",
   "nbconvert_exporter": "python",
   "pygments_lexer": "ipython3",
   "version": "3.12.3"
  }
 },
 "nbformat": 4,
 "nbformat_minor": 5
}
