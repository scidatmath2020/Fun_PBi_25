{
 "cells": [
  {
   "cell_type": "markdown",
   "id": "229a5b46-6f79-4685-bc3c-4edba993f761",
   "metadata": {},
   "source": [
    "![imagenes](logo.png)"
   ]
  },
  {
   "cell_type": "markdown",
   "id": "15f563f3-7648-49b6-accf-99f46c32aecd",
   "metadata": {},
   "source": [
    "# Herramientas (texto, numéricas, fechas)\n",
    "\n",
    "A continuación aprenderemos sobre las herramientas que podemos aplicar a cada columna para transformarla. Para esto, nos vamos a concentrar en las pestañas de **Transformar** y **Agregar columna** del **Editor de consultas**.\n",
    "\n",
    "<img src=\"im029.png\" style=\"display:block; margin:auto;\" width=\"800\">\n",
    "\n",
    "Como puedes observar, Power Bi agrupa las herramientas de transformación dependiendo de tus objetivos: herramientas de uso general, herramientas para textos, herramientas para cálculos numéricos y herramientas para manejo de fecha y hora.\n",
    "\n",
    "**MUY IMPORTANTE.** Como puedes ver en la imagen anterior, también contamos con la pestaña de **Agregar columna**. Este menú tiene muchas de las mismas herramientas que **Transformar**. La diferencia entre los dos paquetes de herramientas es que **Transformar** sirve para modificar columnas, en tanto que las de **Añadir columna** sirven para crear nuevas columnas (lo que se conoce como *columnas calculadas*)."
   ]
  },
  {
   "cell_type": "markdown",
   "id": "451af0ae-aecf-438b-990c-929f576ba308",
   "metadata": {},
   "source": [
    "## Herramientas de texto\n",
    "\n",
    "<img src=\"im030.png\" style=\"display:block; margin:auto;\" width=\"800\">"
   ]
  },
  {
   "cell_type": "markdown",
   "id": "8a66033d-fdfa-4036-ad4c-d7d0a7f9e72a",
   "metadata": {},
   "source": [
    "**Actividad 04.01**\n",
    "\n",
    "<img src=\"im031.png\" style=\"display:block; margin:auto;\" width=\"800\">"
   ]
  },
  {
   "cell_type": "markdown",
   "id": "29f60709-d77a-4ffe-b004-ac46c1adbdc5",
   "metadata": {},
   "source": [
    "**Indicaciones.** Duplica la columna de correo electrónico en la tabla de clientes y llámala **Dominio**. Elimina todo el texto excepto el dominio del correo. Limpia y *capitaliza* cada dominio (por ejemplo, si alguien pertenece a @sciddata.math.com, entonces debe aparecer como Scidata Math). Guarda y aplica los cambios.\n",
    "\n",
    "**Sugerencias.** Como vas a crear una nueva columna, es buena idea que revises el menú de **Agregar Columna**. Una vez que tienes la columna duplicada, utilizar herramientas de **Transformar**. Además es buena idea que en cada paso revises los valores únicos mediante un filtro para encontrar patrones y así poder limpiar."
   ]
  },
  {
   "cell_type": "markdown",
   "id": "872db291-d301-4a38-9aae-ac40f5754490",
   "metadata": {},
   "source": [
    "## Herramientas numéricas\n",
    "\n",
    "Pasemos ahora a las herramientas numéricas. Observa el siguiente menú:\n",
    "\n",
    "<img src=\"im032.png\" style=\"display:block; margin:auto;\" width=\"800\">"
   ]
  },
  {
   "cell_type": "markdown",
   "id": "990b3633-8ab3-4933-af5b-37d3d1408892",
   "metadata": {},
   "source": [
    "Recuerda que estas transformaciones se aplican a toda la columna numérica que selecciones. Dicho esto, concéntrate un momento en las funciones estadísticas. ¿Qué pasa si se aplica un mínimo, un mediana, un promedio o en general, alguna de estas funciones? El resultado es un número único (el máximo de un conjunto de números es un número único, etc). Por lo tanto, aplicar una **transformación** de este estilo va a dejar a todos los valores de la columna con un valor común. Por ejemplo, en algunas versiones de Power Bi, si pides transformar mediante el mínimo, todos los valores de la columna se sustituirán por el valor mínimo de dicha columna.\n",
    "\n",
    "Por lo tanto, las funciones estadísticas en realidad se utilizan para hacer exploraciones de los datos, no obstante la misma información puede ser obtenida a través del **Perfil de Columna** que aprendimos en el capítulo anterior."
   ]
  },
  {
   "cell_type": "markdown",
   "id": "0de426ce-01bf-4ede-a1d7-7172780bf69c",
   "metadata": {},
   "source": [
    "**Actividad 04.02**\n",
    "\n",
    "<img src=\"im033.png\" style=\"display:block; margin:auto;\" width=\"800\">"
   ]
  },
  {
   "cell_type": "markdown",
   "id": "5202ae6a-024e-4daa-96ac-70a978d87d0d",
   "metadata": {},
   "source": [
    "## Herramientas de fecha y hora\n",
    "\n",
    "Hablemos ahora de las herramientas de fecha y hora. Estas son relativamente sencillas e incluyen las siguientes opciones:\n",
    "\n",
    "- **Antigüedad.** diferencia entre la fecha actual y la fecha en cada fila\n",
    "- **Solo fecha.** Elimina las componentes de hora en una columna de fechas.\n",
    "- **Año/mes/trimestre/semana/día.** Extrae las diferentes componentes.\n",
    "- **Mas antiguo/Mas reciente.** Evalúa la fecha más antigua y más reciente de una columna de fechas.\n",
    "\n",
    "La gran mayoría de las veces te va a interesar utilizar estas herramientas para crear nuevas columnas, así que las estarás utilizando desde **Agregar columna**.\n",
    "\n",
    "<img src=\"im034.png\" style=\"display:block; margin:auto;\" width=\"100\">\n"
   ]
  },
  {
   "cell_type": "markdown",
   "id": "f8d10f7f-71d6-4c32-ac69-3fe16adb24b0",
   "metadata": {},
   "source": [
    "**Actividad 04.03**\n",
    "\n",
    "<img src=\"im035.png\" style=\"display:block; margin:auto;\" width=\"800\">"
   ]
  }
 ],
 "metadata": {
  "kernelspec": {
   "display_name": "Python [conda env:base] *",
   "language": "python",
   "name": "conda-base-py"
  },
  "language_info": {
   "codemirror_mode": {
    "name": "ipython",
    "version": 3
   },
   "file_extension": ".py",
   "mimetype": "text/x-python",
   "name": "python",
   "nbconvert_exporter": "python",
   "pygments_lexer": "ipython3",
   "version": "3.12.3"
  }
 },
 "nbformat": 4,
 "nbformat_minor": 5
}
