{
 "cells": [
  {
   "cell_type": "markdown",
   "id": "9a8ba017-ec52-4264-b78f-58c7bb491996",
   "metadata": {},
   "source": [
    "![imagenes](logo.png)"
   ]
  },
  {
   "cell_type": "markdown",
   "id": "e4a45546-8dfd-4a75-bdd2-74a77f0f18e1",
   "metadata": {},
   "source": [
    "# Grupos y resúmenes\n",
    "\n",
    "Vamos a aprender sobre agrupamientos de datos basados en los valores de una o más columnas. Si te diriges a **Transformar** observarás la opción de **Agrupar por**\n",
    "\n",
    "<img src=\"im038.png\" style=\"display:block; margin:auto;\" width=\"200\">"
   ]
  },
  {
   "cell_type": "markdown",
   "id": "eeb3a113-f1ba-497f-b517-512d7cdd1727",
   "metadata": {},
   "source": [
    "Esta opción nos permite agrupar los datos por *niveles* diferentes.\n",
    "\n",
    "Una de las aplicaciones más comunes es agrupar las acciones diarias en grupos de semanas, meses o años. O desglosar la información a través de los valores de otra de las columnas.\n",
    "\n",
    "De esta manera, se trata de una técnica de trabajo avanzada que nos permite crear *resúmenes* de la información.\n",
    "\n",
    "**Importante.** Al aplicar un agrupado y luego realizar un resumen de información, el resultado obtenido será **una nueva tabla**, de modo que si se presiona el ícono de *Aplicar* lo que estaremos guardando será esta nueva tabla."
   ]
  },
  {
   "cell_type": "markdown",
   "id": "232237bd-7905-4360-81b9-c46e33755928",
   "metadata": {},
   "source": [
    "<img src=\"im039.png\" style=\"display:block; margin:auto;\" width=\"1000\">"
   ]
  },
  {
   "cell_type": "markdown",
   "id": "10033ebe-fcd2-465b-834b-27d9befc49b1",
   "metadata": {},
   "source": [
    "En el cuadro de diálogo de **Agrupar por** notarás que tenemos dos opciones: **Básico** y **Avanzado**. La única diferencia, que no es de poca importancia, es que en **Avanzado** te permite agrupar por los niveles que se forman al combinar los valores de dos o más columnas."
   ]
  },
  {
   "cell_type": "markdown",
   "id": "1c69f369-7841-4f82-84e9-604a22a30a2d",
   "metadata": {},
   "source": [
    "De esta manera, el resultado siempre será una tabla con $N+1$ columnas y $M$ filas donde \n",
    "\n",
    "* $N$ es el total de columnas de donde se tomaron los grupos\n",
    "* $M$ es el total de combinaciones diferentes que se pueden armar con los valores distintos de cada una de las $N$ columnas utilizadas para agrupar."
   ]
  }
 ],
 "metadata": {
  "kernelspec": {
   "display_name": "Python [conda env:base] *",
   "language": "python",
   "name": "conda-base-py"
  },
  "language_info": {
   "codemirror_mode": {
    "name": "ipython",
    "version": 3
   },
   "file_extension": ".py",
   "mimetype": "text/x-python",
   "name": "python",
   "nbconvert_exporter": "python",
   "pygments_lexer": "ipython3",
   "version": "3.12.3"
  }
 },
 "nbformat": 4,
 "nbformat_minor": 5
}
