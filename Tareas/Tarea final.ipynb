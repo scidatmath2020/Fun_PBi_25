{
 "cells": [
  {
   "cell_type": "markdown",
   "id": "dd5693bd-b156-4621-9cbc-4ceaf17b8bb8",
   "metadata": {},
   "source": [
    "![imagenes](logo.png)"
   ]
  },
  {
   "cell_type": "markdown",
   "id": "76812dd2-42a8-4be0-8140-515fe05e356c",
   "metadata": {},
   "source": [
    "# TAREA FINAL\n",
    "\n",
    "Tendrás que editar la página de Customer Detail siguiendo estas indicaciones:"
   ]
  },
  {
   "cell_type": "markdown",
   "id": "f1c1947f-e43e-4a1c-9c64-27b02af72bc2",
   "metadata": {},
   "source": [
    "**Ejercicio 1, Tarjetas.**\n",
    "\n",
    "Construye estas dos tarjetas. La del recuadro rojo contiene el total de clientes únicos (Total Customers). La del recuadro azul contiene el pago promedio por cliente (Average Revenue Per Customer).\n",
    "\n"
   ]
  },
  {
   "cell_type": "markdown",
   "id": "79fb9cd8-b565-4afc-b05e-3fa28f96d3c4",
   "metadata": {},
   "source": [
    "<img src=\"imt01.png\" style=\"display:block; margin:auto;\" width=\"600\">"
   ]
  },
  {
   "cell_type": "markdown",
   "id": "e9b299bc-2de8-44b6-9f1d-ad89fa9c18a9",
   "metadata": {},
   "source": [
    "**Ejercicio 2, Gráficos de línea.**\n",
    "\n",
    "Añade un gráfico de línea que indique el total de clientes semanalmente. Modifica el título a **Weekly Customers** y añade la línea de tendencia.\n",
    "\n",
    "**Pista:** En Eje X es Inicio de semana; en eje Y es Total Customers."
   ]
  },
  {
   "cell_type": "markdown",
   "id": "cdc239f8-f301-43e9-a7b0-09e865161474",
   "metadata": {},
   "source": [
    "<img src=\"imt02.png\" style=\"display:block; margin:auto;\" width=\"600\">"
   ]
  },
  {
   "cell_type": "markdown",
   "id": "650a3fcb-ff5c-4dc7-87be-15b9fda6d6d9",
   "metadata": {},
   "source": [
    "**Ejercicio 3, Donas.**\n",
    "\n",
    "En la Actividad 12.02 añadimos una columna llamada **Income Level** a la tabla Customer que indicaba clasificaba a cada cliente dependiendo de su salario anual.\n",
    "\n",
    "Añade una dona con las siguientes características:\n",
    "\n",
    "**Leyenda:** Income Level\n",
    "\n",
    "**Valores:** Total Orders\n",
    "\n",
    "Y para formato:\n",
    "\n",
    "**Formato:**\n",
    "\n",
    "*   **Titulo**\n",
    "    *   **Título**\n",
    "        *   **Texto:** Orders by Income level\n",
    "        *   **Fuente:** Segoe, negrita\n",
    "        *   **Tamaño:** 10\n",
    "        *   **Alineación:** Centrado\n",
    "*   **Leyenda:** Desactivar\n",
    "*   **Etiquetas de detalles**\n",
    "    *   **Opciones**\n",
    "        *   **Contenido de la Etiqueta:** Categoría, valor de los datos\n",
    "    *   **Valores**\n",
    "        *   **Posiciones decimales de valores:** 1\n",
    "*   **Segmentos**\n",
    "    *   **Average:** EL MAGENTA QUE HEMOS ESTADO UTILIZANDO (20E2D7)\n",
    "    *   **Low:** EL NEGRO QUE HEMOS ESTADO UTILIZANDO\n",
    "    *   **High:** dorado (D9B300)\n",
    "\n",
    "Copia esa gráfica y pégala. Cambia **Leyenda** a Occupation.\n",
    "\n",
    "**Formato:**\n",
    "\n",
    "*   **Título**\n",
    "    *   **Título**\n",
    "        *   **Texto:** Orders by Occupation\n",
    "*   **Segmentos**\n",
    "    *   **Professional:** EL MAGENTA QUE HEMOS ESTADO UTILIZANDO (20E2D7)\n",
    "    *   **Skilled Manual:** EL NEGRO QUE HEMOS ESTADO UTILIZANDO\n",
    "    *   **Management:** dorado (D9B300)\n",
    "\n",
    "Finalmente, acomoda las gráficas\n"
   ]
  },
  {
   "cell_type": "markdown",
   "id": "ef4617a4-c533-4815-ab61-d3610a884723",
   "metadata": {},
   "source": [
    "<img src=\"imt03.png\" style=\"display:block; margin:auto;\" width=\"1000\">"
   ]
  },
  {
   "cell_type": "markdown",
   "id": "409f9832-01bc-44de-902b-8f1c0fd5b892",
   "metadata": {},
   "source": [
    "**Ejercicio 4, Tablas.**\n",
    "\n",
    "Inserta una **tabla** (ojo: no una matriz).\n",
    "\n",
    "Añade las columnas:\n",
    "\n",
    "*   CustomerKey y cambia su nombre a Customer Key\n",
    "*   Nombre completo y cambia su nombre a Full Name\n",
    "*   Total Orders y cambia su nombre a Orders\n",
    "*   Total Revenue y cambia su nombre a Orders\n",
    "\n",
    "Ordena la tabla por la columna Orders"
   ]
  },
  {
   "cell_type": "markdown",
   "id": "8e85b35e-e62d-4596-9f51-cce7629d0570",
   "metadata": {},
   "source": [
    "<img src=\"imt04.png\" style=\"display:block; margin:auto;\" width=\"1000\">"
   ]
  },
  {
   "cell_type": "markdown",
   "id": "4076edb0-e91d-4918-a3ad-492e3c0a3843",
   "metadata": {},
   "source": [
    "Aplica formato a la tabla\n",
    "\n",
    "**Formato**\n",
    "\n",
    "*   **Valores prestablecidos de estilo**\n",
    "    *   **Estilo:** Ninguno\n",
    "*   **Encabezados de columnas:**\n",
    "    *   **Texto:**\n",
    "        *   **Fuente:** Segoe Negrita, 10\n",
    "        *   **Alineación:** Centrado\n",
    "\n",
    "Ahora vas a añadir formato condicional a las columnas Orders y Revenue (recuerda que se hace desde **Elementos de Celda**)\n",
    "\n",
    "*   Para Orders: barra de datos: blanco para barra negativa y gris claro para barra positiva\n",
    "*   Para Revenue: color de fondo: blanco para mas bajo y nuestro magenta para más alto"
   ]
  },
  {
   "cell_type": "markdown",
   "id": "79c53ff0-1ef9-4b45-8632-a575176d87c4",
   "metadata": {},
   "source": [
    "<img src=\"imt05.png\" style=\"display:block; margin:auto;\" width=\"1000\">"
   ]
  },
  {
   "cell_type": "markdown",
   "id": "b9262fcf-b128-432e-a97c-1736b1393bde",
   "metadata": {},
   "source": [
    "Apliquemos ahora un top 100. Recuerda que pueden haber nombres repetidos aunque los clientes sean diferentes. Pero las claves de cliente son únicas. Ahí no hay repeticiones. Por lo tanto vas a aplicar un filtro a la tabla mediante Customer Key\n",
    "\n",
    "**Tipo de filtro:** Top N\n",
    "\n",
    "**Mostrar Artículos:** Superior, 100\n",
    "\n",
    "**Por valor:** Total Orders\n",
    "\n",
    "No olvides hacer clic en **Aplicar Filtro**"
   ]
  },
  {
   "cell_type": "markdown",
   "id": "ef49e8b1-9fe6-4212-bc01-8c5c21e88f4d",
   "metadata": {},
   "source": [
    "<img src=\"imt06.png\" style=\"display:block; margin:auto;\" width=\"1000\">"
   ]
  },
  {
   "cell_type": "markdown",
   "id": "29fc1bb3-151b-41e5-b2c7-9f91d6d41918",
   "metadata": {},
   "source": [
    "\n",
    "\n",
    "Si todo está bien, al ordenar la tabla por Orders tu primer renglón será Dalton Perez y el último será Julia Peterson.\n",
    "\n",
    "Añade un título a la tabla (lo puedes hacer desde Formato): Top 100 Customers. Dale formato al título (letra, tamaño, centrado). El resultado final es este:  "
   ]
  },
  {
   "cell_type": "markdown",
   "id": "22214285-f1b6-4073-ad13-fb3270f3789d",
   "metadata": {},
   "source": [
    "<img src=\"imt07.png\" style=\"display:block; margin:auto;\" width=\"1000\">"
   ]
  },
  {
   "cell_type": "markdown",
   "id": "9ba00324-88b5-4bcd-8b69-eb696955eb53",
   "metadata": {},
   "source": [
    "**Ejercicio 5, Top N en tarjetas.**\n",
    "\n",
    "Recuerda que en las tarjetas solo se puede mostrar un valor. Buscamos mostrar el mejor (o peor) valor en cierto sentido.\n",
    "\n",
    "Inserta una tarjeta básica y cárgala con Nombre Completo:  "
   ]
  },
  {
   "cell_type": "markdown",
   "id": "aac0e10f-52fd-4266-832f-84fb06372d3d",
   "metadata": {},
   "source": [
    "<img src=\"imt08.png\" style=\"display:block; margin:auto;\" width=\"1000\">"
   ]
  },
  {
   "cell_type": "markdown",
   "id": "daa830c8-8f83-4d47-b267-964b098a846f",
   "metadata": {},
   "source": [
    "Lo que observas es simplemente el primer nombre de los clientes en orden alfabético. Tenemos que aplicar un Top N para que nos muestre al mejor cliente en términos de quién nos dio más ganancias brutas (total revenue).\n",
    "\n",
    "Selecciona la tarjeta y abre los filtros. Verás lo siguiente."
   ]
  },
  {
   "cell_type": "markdown",
   "id": "f3dec7e7-7bba-4197-9d43-6ebbc1721c0d",
   "metadata": {},
   "source": [
    "<img src=\"imt09.png\" style=\"display:block; margin:auto;\" width=\"500\">"
   ]
  },
  {
   "cell_type": "markdown",
   "id": "51a81f4d-4ce6-4b1e-b68a-64b7f8227948",
   "metadata": {},
   "source": [
    "En Agregar campos de datos, agrega Nombre Completo"
   ]
  },
  {
   "cell_type": "markdown",
   "id": "fcc6459e-90e1-4027-a126-6cee3952335d",
   "metadata": {},
   "source": [
    "<img src=\"imt10.png\" style=\"display:block; margin:auto;\" width=\"500\">"
   ]
  },
  {
   "cell_type": "markdown",
   "id": "03206884-2aeb-4122-af53-7ee7bee1d064",
   "metadata": {},
   "source": [
    "Configura de esta manera. No olvides hacer clic en Aplicar filtro"
   ]
  },
  {
   "cell_type": "markdown",
   "id": "306976b0-b241-46fc-8856-6928fa45ebb5",
   "metadata": {},
   "source": [
    "<img src=\"imt11.png\" style=\"display:block; margin:auto;\" width=\"500\">"
   ]
  },
  {
   "cell_type": "markdown",
   "id": "6cc10eb6-7620-423a-853e-4c137755ace6",
   "metadata": {},
   "source": [
    "Si lo hiciste bien, el resultado es **Maurice Shan**. Por lo tanto si ordenas la tabla de mayor a menor Revenue, tu primer renglón debe ser Maurice Shan.\n",
    "\n",
    "Ahora en la primera dona selecciona\n",
    "\n",
    "*   **Zona morada.** Tanto hasta arriba de la tabla como en la tarjeta es Shannon Navarro\n",
    "*   **Zona magenta.** Tanto hasta arriba de la tabla como en la tarjeta es Maurice Shan\n",
    "*   **Zona dorada.** Tanto hasta arriba de la tabla como en la tarjeta es Larry Muñoz\n",
    "\n",
    "Pero si seleccionas la Zona Negra ya no hay coincidencia: la tabla dice Bonnie Xie y la tarjeta dice Franklin Xu.\n",
    "\n",
    "Esto se debe a que en la tabla original hay dos clientes llamados Franklin Xu pero que son diferentes personas (tiene distinta clave de cliente).\n",
    "\n",
    "Lo que Power Bi hace en ese caso es sumar los Revenue de ambos clientes y por eso decide que Franklin es el cliente que más dinero nos dio dentro del sector quienes menos dinero ganan al año (la zona negra).\n",
    "\n",
    "Para arregla eso, elimina el filtro que creaste en la tarjeta y vuélvelo a programar pero en lugar del nombre del cliente utiliza el CustomerKey. Eso corrige el problema."
   ]
  },
  {
   "cell_type": "markdown",
   "id": "f4659c81-7e6e-4d46-b53c-15f3148067ba",
   "metadata": {},
   "source": [
    "<img src=\"imt12.png\" style=\"display:block; margin:auto;\" width=\"800\">"
   ]
  },
  {
   "cell_type": "markdown",
   "id": "691fa4dd-d8fb-4c15-901c-6165c8fdebb3",
   "metadata": {},
   "source": [
    "Ahora formatea la tarjeta\n",
    "\n",
    "**Formato**\n",
    "\n",
    "*   **Tamaño y Estilo:**\n",
    "    *   **Fondo:** Negro\n",
    "*   **Valor de Globo:**\n",
    "    *   **Fuente:** Segoe Negrita, 20\n",
    "    *   **Color:** Blanco\n",
    "*   **Etiqueta de categoría:** Desactivar\n",
    "\n",
    "Acomoda y añade un cuadro de texto con el **texto Top Customer (by Revenue) como se muestra en la imagen**"
   ]
  },
  {
   "cell_type": "markdown",
   "id": "097e264b-099a-47d6-9317-730f20d453ab",
   "metadata": {},
   "source": [
    "<img src=\"imt13.png\" style=\"display:block; margin:auto;\" width=\"800\">"
   ]
  },
  {
   "cell_type": "markdown",
   "id": "d11c4455-a391-4a7c-b629-657396f66db4",
   "metadata": {},
   "source": [
    "Ahora copia y pega tarjeta. Vamos a mostrar el total de órdenes que nos hizo el cliente.\n",
    "\n",
    "Solo selecciona la tarjea que pegaste y cambia su campo a Total Orders:\n",
    "\n",
    "<img src=\"imt14.png\" style=\"display:block; margin:auto;\" width=\"800\">"
   ]
  },
  {
   "cell_type": "markdown",
   "id": "dbafec95-2c7d-4d6b-8818-277614625e46",
   "metadata": {},
   "source": [
    "Si lo hiciste bien, te aparecerá un 6. Vuelve a copiar la tarjeta pero ahora cambia su campo a Total Revenue. Añade un formato de dos decimales a esta última; da formato de color a ambas tarjetas, incluye algunos cuadros de texto y acomoda las tarjetas para obtener esto:"
   ]
  },
  {
   "cell_type": "markdown",
   "id": "1adda24d-8680-499a-9fb3-c16d2d68a4ec",
   "metadata": {},
   "source": [
    "<img src=\"imt15.png\" style=\"display:block; margin:auto;\" width=\"800\">"
   ]
  },
  {
   "cell_type": "markdown",
   "id": "5eb5e645-a1c5-4d9f-af49-c147120195cd",
   "metadata": {},
   "source": [
    "**Ejercicio 6, Deslizadores.**\n",
    "\n",
    "Vamos a permitir al usuario que pueda revisar las estadísticas anuales de los clientes.\n",
    "\n",
    "Inserta un deslizador. Le asignarás el campo de Year. Formatea:\n",
    "\n",
    "**Formato**\n",
    "\n",
    "*   **Título:** Activar\n",
    "    *   **Texto**: Year\n",
    "    *   **Fuente**: Segoe 14 negrita\n",
    "    *   **Alineación** horizontal\n",
    "*   **Configuración de la segmentación:**\n",
    "    *   **Opciones**\n",
    "        *   **Estilo:** Mosaico\n",
    "*   **Encabezado de segmentación:** Desactivar\n",
    "*   **Valores**\n",
    "    *   **Fuente:** Segoe 14 negrita\n",
    "\n",
    "Finalmente, acomoda las tarjetas y el deslizador para obtener esto:\n"
   ]
  },
  {
   "cell_type": "markdown",
   "id": "71c9d68f-fe0a-432c-bb5c-c43395972e0b",
   "metadata": {},
   "source": [
    "<img src=\"imt16.png\" style=\"display:block; margin:auto;\" width=\"800\">"
   ]
  },
  {
   "cell_type": "markdown",
   "id": "89e74795-b706-4325-88ba-0dbc9c93db7e",
   "metadata": {},
   "source": [
    "**Ejercicio 7, Perforación hacia arriba y hacia abajo**\n",
    "\n",
    "Recuerda que tu serie de tiempo muestra la evolución semanal del total de clientes. Cámbiala para que muestra la evolución anual, mensual, semanal y diaria. Cambia también el título a Customers Trending."
   ]
  },
  {
   "cell_type": "markdown",
   "id": "e53ab009-3d4a-41e7-b07e-000fa373d68a",
   "metadata": {},
   "source": [
    "<img src=\"imt17.png\" style=\"display:block; margin:auto;\" width=\"800\">"
   ]
  },
  {
   "cell_type": "markdown",
   "id": "2f037d0b-7d2a-426d-9898-ee654fb3a77b",
   "metadata": {},
   "source": [
    "**Ejercicio 8, Interacciones.**\n",
    "\n",
    "Selecciona la gráfica de serie de tiempo y perfora para tenerla en semanas. Seleccion cualquier semana. Observarás que las donas tienen un comportamiento extraño."
   ]
  },
  {
   "cell_type": "markdown",
   "id": "9002e99c-1fe9-471e-986c-941c8a3e9431",
   "metadata": {},
   "source": [
    "<img src=\"imt18.png\" style=\"display:block; margin:auto;\" width=\"800\">"
   ]
  },
  {
   "cell_type": "markdown",
   "id": "5d44436d-4e9e-4e62-8944-226f8d167086",
   "metadata": {},
   "source": [
    "Eso se debe a que la interacción de la gráfica hacia las donas es de tipo Resaltar. Cámbiala a Filtrar. Es decir, selecciona la gráfica de serie de tiempo, vete a Formato (en la barra de herramientas), haz clic en **Editar interacciones** y haz clic en los íconos de la imagen. Luego, vuelve a hacer clic en **Editar interacciones**."
   ]
  },
  {
   "cell_type": "markdown",
   "id": "d0fdf97b-7d3a-4ea9-9859-c7f11ac3d293",
   "metadata": {},
   "source": [
    "<img src=\"imt19.png\" style=\"display:block; margin:auto;\" width=\"800\">"
   ]
  },
  {
   "cell_type": "markdown",
   "id": "71535260-ae47-4296-bfa0-5c1487240c45",
   "metadata": {},
   "source": [
    "También, si haces clic en alguno de los clientes de la tabla, notarás que los tres gráficos pierden sentido. Por lo tanto desactiva la interacción de la tabla hacia los tres gráficos procediendo de manera análoga a lo hecho en el párrafo anterior."
   ]
  },
  {
   "cell_type": "markdown",
   "id": "b299b1cb-36ae-49af-9a10-9b926c349bdb",
   "metadata": {},
   "source": [
    "**Ejercicio 9, Marcadores**\n",
    "\n",
    "Digamos que por alguna razón quiero ver el comportamiento en 2020 y 2021 de Larry Vazquez. Obtengo esto"
   ]
  },
  {
   "cell_type": "markdown",
   "id": "11d5f74f-ccd1-4449-b97a-5f5511a0008f",
   "metadata": {},
   "source": [
    "<img src=\"imt20.png\" style=\"display:block; margin:auto;\" width=\"800\">"
   ]
  },
  {
   "cell_type": "markdown",
   "id": "da130baa-839a-4268-a40a-06ab805c1550",
   "metadata": {},
   "source": [
    "Crea un marcador llamado Larry Vazquez 2020-2021 y programa un botón para que cada vez lo presione pueda ver el comportamiento de Larry."
   ]
  },
  {
   "cell_type": "markdown",
   "id": "62547625-9a45-442d-95c3-1aefde1baac3",
   "metadata": {},
   "source": [
    "**Ejercicio 10, Parámetros de campo.**\n",
    "\n",
    "Crea un Parámetro de Campo llamado Customer Metric Selection. Los campos que usará son Total Customer y Average Revenue per Customer. Deberá afectar a la gráfica de línea y debe permitir solo una opción para graficar (es decir, solo se puede visualizar una serie de tiempo a la vez).\n",
    "\n",
    "Edita para mejorar la presentación. La página debe quedar así:"
   ]
  },
  {
   "cell_type": "markdown",
   "id": "d9083e64-ee6e-498a-8d5c-e32707087e93",
   "metadata": {},
   "source": [
    "<img src=\"imt21.png\" style=\"display:block; margin:auto;\" width=\"800\">"
   ]
  },
  {
   "cell_type": "markdown",
   "id": "58f5d8d4-a327-4991-acc3-107da0e775c3",
   "metadata": {},
   "source": [
    "**Ejercicio 11: Nos vemos pronto. SÉ FELIZ.**"
   ]
  }
 ],
 "metadata": {
  "kernelspec": {
   "display_name": "Python [conda env:base] *",
   "language": "python",
   "name": "conda-base-py"
  },
  "language_info": {
   "codemirror_mode": {
    "name": "ipython",
    "version": 3
   },
   "file_extension": ".py",
   "mimetype": "text/x-python",
   "name": "python",
   "nbconvert_exporter": "python",
   "pygments_lexer": "ipython3",
   "version": "3.12.3"
  }
 },
 "nbformat": 4,
 "nbformat_minor": 5
}
