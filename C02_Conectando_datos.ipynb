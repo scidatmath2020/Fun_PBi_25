{
 "cells": [
  {
   "cell_type": "markdown",
   "id": "874030e5-2b34-408c-993d-2d6ef0a93f1c",
   "metadata": {},
   "source": [
    "![imagenes](logo.png)"
   ]
  },
  {
   "cell_type": "markdown",
   "id": "80760963-1bcf-4ce9-9feb-19889a183ad1",
   "metadata": {},
   "source": [
    "Abramos nuestro archivo *AdventureWorks Report.pbix*.\n",
    "\n",
    "Observemos que de entrada nos aparece un menú rápido para agregar datos al informe\n",
    "\n",
    "<img src=\"im018.png\" style=\"display:block; margin:auto;\" width=\"800\">"
   ]
  },
  {
   "cell_type": "markdown",
   "id": "ae20f406-0b41-4973-81ce-7c723acaa5df",
   "metadata": {},
   "source": [
    "# Conectando datos\n",
    "\n",
    "Veamos ahora cómo se conectan los datos para ser trabajados dentro de Power Bi. \n",
    "\n",
    "Power Bi cuenta con una gran biblioteca de conectores de bases de datos, lo cual te permite accesar a datos alojados prácticamente en cualquier lugar. Cuando abras Power Bi, ubica la opción de **Obtener datos** y da clic ahí\n",
    "\n",
    "<img src=\"im017.png\" style=\"display:block; margin:auto;\" width=\"800\">"
   ]
  },
  {
   "cell_type": "markdown",
   "id": "7c94a62d-1d74-4680-82d6-a5a3b88225ce",
   "metadata": {},
   "source": [
    "Power BI puede conectarse prácticamente a cualquier tipo de fuente de datos, incluyendo (pero no limitado a):\n",
    "\n",
    "- **Archivos planos y carpetas** (CSV, texto, XLSX, etc.)\n",
    "- **Bases de datos** (SQL, Access, Oracle, IBM, etc.)\n",
    "- **Power Platform** (Conjuntos de datos, Datamarts, Flujos de datos, Dataverse, etc.)\n",
    "- **Azure** (Azure SQL, Analysis Services, Databricks, etc.)\n",
    "- **Servicios en línea** (SharePoint, GitHub, Dynamics 365, Google Analytics, Salesforce, Power BI Service, etc.)\n",
    "- **Otros** (Fuentes web, scripts R, Spark, Hadoop, etc.)"
   ]
  },
  {
   "cell_type": "markdown",
   "id": "ba063ff5-926d-46ad-97c3-c04aee6487e5",
   "metadata": {},
   "source": [
    "En el caso de nuestro reporte **AdventureWorks Report**, vamos a conectar con el csv *AdventureWorks Territory Lookup.csv* de nuestro repositorio de **data**: https://github.com/scidatmath2020/Fun_PBi_25/tree/main/data"
   ]
  },
  {
   "cell_type": "markdown",
   "id": "dc4d8a32-1185-4094-b5a5-a30cf83616fe",
   "metadata": {},
   "source": [
    "## Editor de consultas\n",
    "\n",
    "El editor de consultas se abre en el ícono de **Transformar datos**:\n",
    "\n",
    "<img src=\"im019.png\" style=\"display:block; margin:auto;\" width=\"800\">"
   ]
  },
  {
   "cell_type": "markdown",
   "id": "1ad44db0-db2b-482c-be7f-c6e40711aa5c",
   "metadata": {},
   "source": [
    "La ventana del **Editor de consultas** está formada por los siguientes componentes\n",
    "\n",
    "<img src=\"im020.png\" style=\"display:block; margin:auto;\" width=\"850\">"
   ]
  },
  {
   "cell_type": "markdown",
   "id": "e9ca3c99-899d-4109-accd-4529fd3efa71",
   "metadata": {},
   "source": [
    "A su vez, las principales herramientas de edición son\n",
    "\n",
    "<img src=\"im021.png\" style=\"display:block; margin:auto;\" width=\"850\">"
   ]
  },
  {
   "cell_type": "markdown",
   "id": "1da6c0e2-f7e9-4a80-8480-261dec38622e",
   "metadata": {},
   "source": [
    "## Problema\n",
    "\n",
    "<img src=\"im022.png\" style=\"display:block; margin:auto;\" width=\"650\">"
   ]
  },
  {
   "cell_type": "markdown",
   "id": "0ad1629a-48ce-44d4-a776-020f3f7c8d7b",
   "metadata": {},
   "source": [
    "<img src=\"im024.png\" style=\"display:block; margin:auto;\" width=\"650\">"
   ]
  },
  {
   "cell_type": "markdown",
   "id": "9debd53a-a071-40fa-9b48-d90dd7084022",
   "metadata": {},
   "source": [
    "<img src=\"im023.png\" style=\"display:block; margin:auto;\" width=\"650\">"
   ]
  },
  {
   "cell_type": "markdown",
   "id": "86f27ed2-de05-4189-94e8-9216ffac87b8",
   "metadata": {},
   "source": [
    "## Gestión de almacenamiento en Power Bi\n",
    "\n",
    "Hablemos ahora sobre los diferentes tipos de almacenamiento y conectividad de datos en Power Bi. Como hemos comentado, la gran mayoría de las veces uno trabaja *importando* datos, generalmente desde un archivo csv. Sin embargo, Power Bi admite varios tipos de gestión de almacenamiento de la información, cada uno útil en diferentes escenarios.\n",
    "\n",
    "* **Modo de importado.** Es el modo de almacenamiento por default. Las tablas se gestionan dentro de la memoria de Power Bi y las consultas se realizan con la información almacenada en caché. Son útiles cuando los datos no cambian con frecuencia.\n",
    "\n",
    "* **Modo de consulta directa.** Las tablas son conectadas directamente a la fuente. Este método de almacenamiento es el más común cuando el conjunto de datos es demasiado grande como para descargarlo o se actualizan muy frecuentemente, o bien, cuando por políticas de la empresa no se pueden importar los datos.\n",
    "\n",
    "* **Modelo compuesto.** Son modelos que contienen una mezcla de importado y consulta directa, o que se crean a través de varias consultas directas."
   ]
  }
 ],
 "metadata": {
  "kernelspec": {
   "display_name": "Python [conda env:base] *",
   "language": "python",
   "name": "conda-base-py"
  },
  "language_info": {
   "codemirror_mode": {
    "name": "ipython",
    "version": 3
   },
   "file_extension": ".py",
   "mimetype": "text/x-python",
   "name": "python",
   "nbconvert_exporter": "python",
   "pygments_lexer": "ipython3",
   "version": "3.12.3"
  }
 },
 "nbformat": 4,
 "nbformat_minor": 5
}
