{
 "cells": [
  {
   "cell_type": "markdown",
   "id": "cbdd0e92-c3ff-4018-8406-a8bf9049d35a",
   "metadata": {},
   "source": [
    "![imagenes](logo.png)"
   ]
  },
  {
   "cell_type": "markdown",
   "id": "7bd669d6-a89c-4502-8597-4f3f9c8beca2",
   "metadata": {},
   "source": [
    "# Fusiones de tablas\n",
    "\n",
    "Consideremos que la gran mayoría de las ocasiones, dado que queremos evitar el uso de tablas muy complejas, la información de nuestro estudio viene separada en varias tablas.\n",
    "\n",
    "De esta manera, observemos las siguientes tablas **trabajadores** y **departamentos**:\n",
    "\n",
    "<img src=\"im043.png\" style=\"display:block; margin:auto;\" width=\"1200\">"
   ]
  },
  {
   "cell_type": "markdown",
   "id": "c2f56b44-cda2-4d58-832a-44a3889d1069",
   "metadata": {},
   "source": [
    "Como puedes notar, en la **trabajadores** únicamente tenemos la información *personal* de cada trabajador. En particular, tenemos el código del departamento al que pertenece. En tanto que en la tabla **departamento** tenemos características de cada área de trabajo. Así, por ejemplo, si quisiera saber en qué ubicación se encuentra cada trabajador, tendría que llevarme la información de los pisos desde **departamento** hacia **trabajadores**; o si quisiera saber qué trabajadores están en Ventas, tendría que llevarme información desde **trabajadores** hacia **departamento**.\n",
    "\n",
    "Esto es lo que se conoce como **fusionar consultas** y se trata de una técnica para llevar la información desde una tabla hacia otra. Observa que el resultado de una fusión es, técnicamente, **una nueva tabla**.\n",
    "\n",
    "<img src=\"im044.png\" style=\"display:block; margin:auto;\" width=\"500\">\n"
   ]
  },
  {
   "cell_type": "markdown",
   "id": "622a5a79-618e-4986-adab-1d4526b24f02",
   "metadata": {},
   "source": [
    "Aunque existen varios tipos de fusiones en el Álgebra Relacional, en Power Bi hay tres fundamentales: **fusión interna, izquierda y total**.\n",
    "\n",
    "Además, tenemos un concepto fundamental para realizar las fusiones: **columnas join**. Estas son columnas *de pegamento*. Cada una de las dos tablas tendrá su propia columna join, y pueden o no tener el mismo nombre. Sirven para saber a través de qué columnas se lleva la información de una tabla a otra. \n",
    "\n",
    "En el caso de **trabajadores** y **departamentos**, las columnas join de ambas tienen el mismo nombre: ``departamento_id``. De esta manera, mediante dicha columna, yo sé que María trabaja en el Piso 2 de Marketing o que en el departamento de ventas están Juan y Pedro. \n"
   ]
  },
  {
   "cell_type": "markdown",
   "id": "83146a11-e616-47ff-a89c-8d00c0ddb771",
   "metadata": {},
   "source": [
    "## Fusión interna\n",
    "\n",
    "<img src=\"im049.png\" style=\"display:block; margin:auto;\" width=\"200\">\n",
    "\n",
    "Es la tabla resultante de fusionar la información de ambas tablas mediante **todas** las coincidencias de sus columnas join. En este caso, ambas columnas join tienen en común ``101,102`` y ``103`` por lo que únicamente esos valores van a a sobrevivir:\n",
    "\n",
    "<img src=\"im045.png\" style=\"display:block; margin:auto;\" width=\"1200\">\n",
    "\n"
   ]
  },
  {
   "cell_type": "markdown",
   "id": "a3d4a1ee-7e32-476f-9bdc-4420b9d5c9cb",
   "metadata": {},
   "source": [
    "## Fusión izquierda\n",
    "\n",
    "Suele ser la más útil de las fusiones. Se trata de llevar la información de la segunda tabla hacia la primera (cuando se lleva la información desde la primera hacia la segunda, se llama **fusión derecha**). \n",
    "\n",
    "Por lo tanto, va buscar los elementos de la columna join de la primera tabla en la columna join de la segunda y va a traer únicamente la información que encuentre en la segunda.\n",
    "\n",
    "<img src=\"im050.png\" style=\"display:block; margin:auto;\" width=\"200\">\n",
    "\n",
    "\n",
    "**Fusión izquierda de trabajadores vs departamentos:** los elementos de la columna join de la primera tabla que se encuentran en la columna join de la segunda tabla son ``101, 102`` y ``103``, no obstante también la fila de Carlos va a sobrevivir pero sus datos respectivos se llenan con huecos.\n",
    "\n",
    "<img src=\"im046.png\" style=\"display:block; margin:auto;\" width=\"1200\">\n",
    "\n",
    "**Fusión izquierda de departamentos vs trabajadores** los elementos de la columna join de la primera tabla que se encuentran en la columna join de la segunda tabla son ``101, 102`` y ``103``, no obstante también la fila de RRHH va a sobrevivir pero sus datos respectivos se llenan con huecos.\n",
    "\n",
    "<img src=\"im047.png\" style=\"display:block; margin:auto;\" width=\"1200\">"
   ]
  },
  {
   "cell_type": "markdown",
   "id": "d843c462-e038-4ffc-8834-25e3e7cf4eb6",
   "metadata": {},
   "source": [
    "## Fusión total\n",
    "\n",
    "<img src=\"im051.png\" style=\"display:block; margin:auto;\" width=\"200\">\n",
    "\n",
    "Creará una nueva tabla donde aparecen todos los elementos de las columnas join sin importar si aparecen en una o ambas tablas. Los elementos de los cuales no se puede extraer información se rellenan con huecos.\n",
    "\n",
    "<img src=\"im048.png\" style=\"display:block; margin:auto;\" width=\"1200\">\n"
   ]
  },
  {
   "cell_type": "markdown",
   "id": "f02a9c36-1c37-4bb0-b309-30c84784d19b",
   "metadata": {},
   "source": [
    "## Joins en Power Bi\n",
    "\n",
    "En Power Bi contamos con la herramienta **Combinar consultas** dentro del menú **Inicio** del **Editor de consultas**\n",
    "\n",
    "<img src=\"im052.png\" style=\"display:block; margin:auto;\" width=\"1200\">\n"
   ]
  },
  {
   "cell_type": "markdown",
   "id": "dd873776-d804-4bce-8967-597d7300e3a8",
   "metadata": {},
   "source": [
    "Dicha herramienta abre el siguiente cuadro de diálogo:\n",
    "\n",
    "<img src=\"im053.png\" style=\"display:block; margin:auto;\" width=\"800\">\n"
   ]
  },
  {
   "cell_type": "markdown",
   "id": "93376f16-6e6a-4bce-aeaa-b9a286f959ff",
   "metadata": {},
   "source": [
    "Una vez haciendo clic en ``Aceptar``, observaremos un resultado similar a este:\n",
    "\n",
    "<img src=\"im054.png\" style=\"display:block; margin:auto;\" width=\"800\">\n"
   ]
  },
  {
   "cell_type": "markdown",
   "id": "566354e4-9b31-4dff-9040-6cf68edbea98",
   "metadata": {},
   "source": [
    "Finalmente, con el cuadrado con doble flecha de la imagen anterior (el cual está dentro del rectángulo rojo) podemos decidir qué columnas combinar.\n",
    "\n",
    "<img src=\"im055.png\" style=\"display:block; margin:auto;\" width=\"400\">\n"
   ]
  },
  {
   "cell_type": "markdown",
   "id": "ba3d5853-582d-469e-8cca-5fb60a9ca2fd",
   "metadata": {},
   "source": [
    "# Fusionado vertical\n",
    "\n",
    "<img src=\"im060.png\" style=\"display:block; margin:auto;\" width=\"150\">\n",
    "\n",
    "Otra manera usual para realizar fusiones es verticalmente. La idea es muy sencilla: tienes varias tablas con la misma estructura general (mismas columnas, todas del mismo nombre y tipo) y buscar armarlas en una única tabla haciendo coincidir todas las columnas.\n",
    "\n",
    "Por ejemplo, consideremos las siguientes tres tablas:\n",
    "\n",
    "<img src=\"im056.png\" style=\"display:block; margin:auto;\" width=\"1000\">\n"
   ]
  },
  {
   "cell_type": "markdown",
   "id": "e4d5b20b-a8ee-4505-8b74-c75250646732",
   "metadata": {},
   "source": [
    "Observemos que tienen las mismas columnas y en el mismo orden. Además, todas las columnas son del mismo tipo respectivamente, salvo la columna de ``Departamento_id`` de la segunda tabla, que es de tipo numérico. No obstante, es claro que el tipo de dato es *compatible*. Por lo tanto, se pueden fusionar verticalmente para obtener una única tabla:\n",
    "\n",
    "<img src=\"im057.png\" style=\"display:block; margin:auto;\" width=\"1000\">"
   ]
  },
  {
   "cell_type": "markdown",
   "id": "ed76f7e1-431b-4a61-9585-e3b908ae831f",
   "metadata": {},
   "source": [
    "Para conseguir esto, Power Bi cuenta el comando **Anexar consultas** dentro del Menú **Inicio** del **Editor de consultas**\n",
    "\n",
    "<img src=\"im058.png\" style=\"display:block; margin:auto;\" width=\"1000\">\n"
   ]
  },
  {
   "cell_type": "markdown",
   "id": "45f3f577-27b4-45f3-9277-6da6e8777c48",
   "metadata": {},
   "source": [
    "Dicha herramienta abre el siguiente cuadro de diálogo:\n",
    "\n",
    "<img src=\"im059.png\" style=\"display:block; margin:auto;\" width=\"800\">"
   ]
  }
 ],
 "metadata": {
  "kernelspec": {
   "display_name": "Python [conda env:base] *",
   "language": "python",
   "name": "conda-base-py"
  },
  "language_info": {
   "codemirror_mode": {
    "name": "ipython",
    "version": 3
   },
   "file_extension": ".py",
   "mimetype": "text/x-python",
   "name": "python",
   "nbconvert_exporter": "python",
   "pygments_lexer": "ipython3",
   "version": "3.12.3"
  }
 },
 "nbformat": 4,
 "nbformat_minor": 5
}
