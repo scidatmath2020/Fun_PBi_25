{
 "cells": [
  {
   "cell_type": "markdown",
   "id": "cfc35365-fae9-42b9-a1e1-0d8e9a7df6c6",
   "metadata": {},
   "source": [
    "![imagenes](logo.png)"
   ]
  },
  {
   "cell_type": "markdown",
   "id": "5c313393-0972-4341-a315-aff8ab64bc4c",
   "metadata": {},
   "source": [
    "# Introducción a DAX\n",
    "\n",
    "Las Expresiones del Análisis de datos, conocidas como **DAX**, es el lenguaje de programación que utiliza Power Bi para el Front-End. \n",
    "\n",
    "DAX  te permite ir más allá de las capacidades de las fórmulas tradicionales de hojas de cálculo, con funciones potentes y flexibles diseñadas específicamente para trabajar con modelos de datos relacionales.\n",
    "\n",
    "De esta manera, Power Bi cuenta con dos lenguajes internos de programación: M y DAX. Aunque ambos lenguajes se parecen, la diferencia entre ambos es que M se utiliza para el Back-End (el **Editor de Consultas**) y DAX para el Front-End (la presentación de resultados).\n",
    "\n"
   ]
  },
  {
   "cell_type": "markdown",
   "id": "92e3af42-1fee-449b-8553-4c31b1f46544",
   "metadata": {},
   "source": [
    "## Columnas calculadas\n",
    "\n",
    "Comencemos aprendiendo a calcular columnas. Las funciones DAX enfocadas en columnas calculadas te permiten agregar nuevas columnas a tu modelo. Toma en cuenta que estas funciones se pueden aplicar a columnas existentes o a tablas completas, pero no trabajan bajo el paradigma *celda A1* de Excel. Además, para cada fila de la tabla crean un nuevo valor, el cual se puede ver en la **Vista de tablas**. Por lo tanto no son muy buenas para trabajar con funciones de agregación (suma, conteo, máximo, etcétera). Para calcular funciones de agregación, más adelante estudiaremos el concepto de **medidas**.\n",
    "\n",
    "Así, como regla general, usaremos DAX para columnas calculadas con el fin de **filtrar** y **agrupar** información. \n",
    "\n",
    "En Power Bi, las columnas calculadas se pueden crear fácilmente desde el **Visor de Tablas** con **Nueva Columna**:\n",
    "\n",
    "\n",
    "<img src=\"im086.png\" style=\"display:block; margin:auto;\" width=\"500\">\n"
   ]
  },
  {
   "cell_type": "markdown",
   "id": "d493635c-607d-4c34-b842-d9a0e7b7f200",
   "metadata": {},
   "source": [
    "## Introducción a medidas\n",
    "\n",
    "Una medida es una fórmula tipo DAX que se utiliza para calcular nuevos valores, pero que a diferencia de las columnas calculadas, no son visibles dentro de las tablas; solo se pueden \"ver\" dentro de una visualización como un gráfico o una matriz (similar a un campo calculado en una tabla dinámica). Las medidas sirven para generar cálculos numéricos que pueden usarse en la sección de 'valores' de gráficos o tablas en un informe. \n",
    "\n",
    "Por ejemplo, en la siguiente matriz tenemos que cada uno de los valores es una medida.\n",
    "\n",
    "<img src=\"im089.png\" style=\"display:block; margin:auto;\" width=\"500\">\n",
    "\n",
    "Estas se evalúan según el contexto filtrado, lo que significa que se recalculan cuando cambian los campos o filtros que las rodean. A diferencia de las columnas calculadas, las medidas no ocupan espacio en el modelo, ya que se evalúan al vuelo.\n",
    "\n",
    "\n"
   ]
  },
  {
   "cell_type": "markdown",
   "id": "53d492d3-5407-40d3-ba28-7ca9a4b59952",
   "metadata": {},
   "source": [
    "### Medidas implícitas y explícitas\n",
    "\n",
    "Las **medidas implícitas** se crean cuando arrastras campos numéricos crudos a un visual del informe y seleccionas manualmente un modo de agregación\n",
    "(Suma, Promedio, Mínimo, Máximo, Conteo, etc.). Solo se pueden usar dentro de la visualización específica en la que fueron creadas, y no se pueden reutilizar en otros lugares.\n",
    "\n",
    "Las **medidas explícitas** se crean cuando escribes una fórmula DAX y defines una nueva medida que puede utilizarse dentro del modelo. Se pueden usar en cualquier parte del informe y también pueden ser referenciadas por otros cálculos DAX para crear “árboles de medidas”."
   ]
  },
  {
   "cell_type": "markdown",
   "id": "d200a845-be8e-41cd-ae54-ac515eb4a898",
   "metadata": {},
   "source": [
    "**Construcción**\n",
    "\n",
    "Las medidas implícitas se construyen tal y como hemos venido trabajando las matrices: utilizando las opciones de **Filas**, **Columnas** y **Valores**.\n",
    "\n",
    "Por su parte, las medidas explícitas se construyen desde el ícono de **Nueva Medida**.\n",
    "\n",
    "<img src=\"im090.png\" style=\"display:block; margin:auto;\" width=\"1000\">"
   ]
  },
  {
   "cell_type": "markdown",
   "id": "9f347682-49f6-4551-ab5f-f9c039d17f0b",
   "metadata": {},
   "source": [
    "Ahora bien, es importante notar que las nuevas medidas se agregan a la tabla que se tenga seleccionada."
   ]
  },
  {
   "cell_type": "markdown",
   "id": "ff58d4d2-9d93-49c8-a367-d567f8a19d76",
   "metadata": {},
   "source": [
    "### Tabla de medidas calculadas\n",
    "\n",
    "Una buena práctica para la administración de medidas es el uso de una *tabla exclusiva de medidas*. Esto te ayudará a mantener organizadas dentro de folders las medidas que te sirvan para objetivos comunes.\n",
    "\n",
    "Para crear una tabla de medidas, simplemente añadimos una nueva tabla vacía mediante el menú **Inicio** y aprovechamos que las medidas se pueden cambiar de tabla de origen.\n",
    "\n",
    "<img src=\"im091.png\" style=\"display:block; margin:auto;\" width=\"1000\">"
   ]
  },
  {
   "cell_type": "markdown",
   "id": "a605d08b-fcab-438c-b7ff-80462837b7e7",
   "metadata": {},
   "source": [
    "Los pasos a seguir son:\n",
    "\n",
    "- Crear la tabla con **Introducir Datos**. Llamarla ``Tabla de medidas``.\n",
    "  \n",
    "- Definir alguna medida dentro de dicha tabla o utilizar la opción de **Tabla inicial** para mover las medidas que ya tienes previamente programadas hacia la ``Tabla de medidas``.\n",
    "\n",
    "- Eliminar la **Columna 1** que se creó por default en la ``Tabla de medidas``.\n",
    "\n",
    "- Si deseas crear un folder especializado, hacerlo desde la **Vista de modelos**.\n"
   ]
  }
 ],
 "metadata": {
  "kernelspec": {
   "display_name": "Python [conda env:base] *",
   "language": "python",
   "name": "conda-base-py"
  },
  "language_info": {
   "codemirror_mode": {
    "name": "ipython",
    "version": 3
   },
   "file_extension": ".py",
   "mimetype": "text/x-python",
   "name": "python",
   "nbconvert_exporter": "python",
   "pygments_lexer": "ipython3",
   "version": "3.12.3"
  }
 },
 "nbformat": 4,
 "nbformat_minor": 5
}
