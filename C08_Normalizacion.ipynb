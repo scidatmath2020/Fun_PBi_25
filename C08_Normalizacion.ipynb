{
 "cells": [
  {
   "cell_type": "markdown",
   "id": "d3e1cd97-d9a3-4bd7-b427-ea920d86f58a",
   "metadata": {},
   "source": [
    "![imagenes](logo.png)"
   ]
  },
  {
   "cell_type": "markdown",
   "id": "60db1647-278c-4931-b885-08cc43274c4e",
   "metadata": {},
   "source": [
    "# Modelado\n",
    "\n",
    "Ya hemos comentado anteriormente que una base de datos es, en principio, un conjunto de tablas que representan información de un mismo fenómeno. No obstante, podemos ser más precisos: una base de datos no solo es un conjunto de tablas, sino también las relaciones existentes entre dichas columnas. Esto es lo que se conoce también como **modelo**.\n",
    "\n",
    "## Normalización\n",
    "\n",
    "La **normalización** es el proceso de organizar las tablas y columnas de una base de datos para reducir la redundancia preservando la integridad de la información. \n",
    "\n",
    "En una base de datos normalizada, cada tabla debe obedecer a un propósito **único** y **distinto**.\n",
    "\n",
    "<img src=\"im061.png\" style=\"display:block; margin:auto;\" width=\"1200\">"
   ]
  },
  {
   "cell_type": "markdown",
   "id": "c1d46b98-f4c2-46ec-a570-bd43dbb86a23",
   "metadata": {},
   "source": [
    "## Tablas de hechos y de dimensiones\n",
    "\n",
    "Los modelos de datos generalmente contienen dos tipos de tablas: tablas de hechos (datos) y tablas de dimensiones (de referencia):\n",
    "\n",
    "* **Tablas de hechos** contienen valores numéricos o métricas utilizadas para resúmenes (ventas, pedidos, transacciones, visitas a páginas, etc.)\n",
    "\n",
    "* **Tablas de dimensiones** contienen atributos descriptivos utilizados para filtrado o agrupación (productos, clientes, fechas, tiendas, etc.)"
   ]
  },
  {
   "cell_type": "markdown",
   "id": "99f59dbc-0fb4-4aaf-af6f-fda8aebb2778",
   "metadata": {},
   "source": [
    "<img src=\"im062.png\" style=\"display:block; margin:auto;\" width=\"1200\">"
   ]
  },
  {
   "cell_type": "markdown",
   "id": "292b9a12-9f31-4b3d-98dc-a5662b34005a",
   "metadata": {},
   "source": [
    "## Llaves primarias y foráneas\n",
    "\n",
    "Retomando lo anterior, puedes observar que en dichas tablas tenemos algunas columnas compartidas, las cuales eventualmente nos pueden servir para ligar la información de una tabla a otra. En el capítulo anterior, llamamos a estas columnas **columnas join**. En cambio, en términos de modelado, se les conoce como **columnas llave**.\n",
    "\n",
    "Existen dos tipos de columnas llave:\n",
    "\n",
    "* **Llave Primaria.** Es una columna (o conjunto de columnas) que identifica de forma única cada renglón en una tabla. Se caracterizan por\n",
    "  - No se repite en la tabla (**unicidad**)\n",
    "  - Siempre tiene un valor (**no nulidad**)\n"
   ]
  },
  {
   "cell_type": "markdown",
   "id": "f92eb745-236a-4d1a-890a-616b1e20ba01",
   "metadata": {},
   "source": [
    "* **Llave Foránea.** Es una columna que hace referencia a la clave primaria de otra tabla, estableciendo una relación entre ambas.\n",
    "  - Varios registros pueden apuntar al mismo valor (ej. muchas ventas del mismo producto).\n",
    "  - Puede ser nula: Dependiendo del diseño de la base de datos.\n",
    "  "
   ]
  },
  {
   "cell_type": "markdown",
   "id": "7c7cd820-0819-42e3-95cd-3611e7c8380d",
   "metadata": {},
   "source": [
    "<img src=\"im063.png\" style=\"display:block; margin:auto;\" width=\"1200\">"
   ]
  },
  {
   "cell_type": "markdown",
   "id": "08df2dce-ce53-4453-b3d0-58becc54807d",
   "metadata": {},
   "source": [
    "### Diferencia entre fusión y relaciones\n",
    "\n",
    "Es muy importante notar que la fusión y las relaciones básicamente tienen el mismo objetivo: saber cómo llevas la información de un lugar a otro. No obstante, lo más recomendable es trabara directamente con relaciones. Esto debido a que las fusiones ocupan espacio innecesario en memoria; además, algunos gestores de bases de datos (como Power Bi) están diseñados para realizar operaciones más rápido bajo el esquema de trabajo de relaciones que bajo fusiones."
   ]
  }
 ],
 "metadata": {
  "kernelspec": {
   "display_name": "Python [conda env:base] *",
   "language": "python",
   "name": "conda-base-py"
  },
  "language_info": {
   "codemirror_mode": {
    "name": "ipython",
    "version": 3
   },
   "file_extension": ".py",
   "mimetype": "text/x-python",
   "name": "python",
   "nbconvert_exporter": "python",
   "pygments_lexer": "ipython3",
   "version": "3.12.3"
  }
 },
 "nbformat": 4,
 "nbformat_minor": 5
}
