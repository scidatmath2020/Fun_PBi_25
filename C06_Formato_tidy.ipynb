{
 "cells": [
  {
   "cell_type": "markdown",
   "id": "6c6545af-ea36-4965-91ed-0d88ba8db617",
   "metadata": {},
   "source": [
    "![imagenes](logo.png)"
   ]
  },
  {
   "cell_type": "markdown",
   "id": "39886ce9-af5c-4454-a613-cc35026f1ccf",
   "metadata": {},
   "source": [
    "# Formato tidy\n",
    "\n",
    "Observemos la siguiente tabla:\n",
    "\n",
    "<img src=\"im040.png\" style=\"display:block; margin:auto;\" width=\"400\">"
   ]
  },
  {
   "cell_type": "markdown",
   "id": "77f4893f-cb1d-4318-830e-001c4c044977",
   "metadata": {},
   "source": [
    "Supongamos que quiero saber cuántas unidades se vendieron en cada región por categoría de producto. \n",
    "\n",
    "Si observas la estructura de la tabla, notarás que tendrías que realizar tres transformaciones: agrupar por categoría de producto y sumar en cada una de las tres regiones.\n",
    "\n",
    "En este caso solo tenemos tres columnas *de región*. Es decir, tres columnas donde queremos calcular el mismo índice (productos vendidos por categoría), pero imagina una situación donde tienes más columnas, como la tabla siguiente\n",
    "\n",
    "| Año  | tipo daño    | Robo total de vehículo | Robo parcial de vehículo | Robo o asalto en calle o transporte público | Robo en casa habitación | Robo en forma distinta a las anteriores | Amenazas verbales | Extorsión | Fraude  | Lesiones | Otros delitos distintos a los anteriores |\n",
    "|------|-------------|------------------------|--------------------------|---------------------------------------------|-------------------------|------------------------------------------|-------------------|-----------|---------|----------|------------------------------------------|\n",
    "| 2012 | económicos  | 536873                 | 3136252                  | 5764847                                    | 1561407                 | 357792                                  | 132884            | 445615    | 2324637 | 62759    | 52222                                    |\n",
    "| 2012 | físicos     | 3938                   | 11263                    | 286261                                     | 15805                   | 5058                                     | 227198            | 38067     | 2966    | 656995   | 31402                                    |\n",
    "| 2012 | emocionales | 46685                  | 98576                    | 1443424                                    | 230594                  | 21561                                    | 1600918           | 2994108   | 81552   | 278066   | 591925                                   |\n",
    "| 2012 | laborales   | 8019                   | 6118                     | 33449                                      | 5077                    | 2341                                     | 40982             | 32006     | 13858   | 4638     | 9915                                     |\n",
    "| 2012 | ninguno     | 25616                  | 85071                    | 395231                                     | 278778                  | 10094                                    | 847578            | 2455529   | 198438  | 83722    | 130783                                   |\n",
    "| 2013 | económicos  | 429087                 | 2548054                  | 4958303                                    | 1387684                 | 358541                                  | 108573            | 366003    | 1861224 | 39461    | 51996                                    |\n",
    "| 2013 | físicos     | 5700                   | 15934                    | 400342                                     | 18863                   | 5583                                     | 263188            | 46491     | 3865    | 797033   | 38361                                    |\n",
    "| 2013 | emocionales | 72418                  | 119503                   | 1910856                                    | 311974                  | 30690                                    | 2067627           | 3821427   | 131218  | 385577   | 868497                                   |\n",
    "| 2013 | laborales   | 14047                  | 9444                     | 50179                                      | 6970                    | 3274                                     | 42716             | 38592     | 18354   | 6894     | 13720                                    |\n",
    "| 2013 | ninguno     | 34795                  | 107333                   | 499304                                     | 368024                  | 11942                                    | 1122695           | 3136486   | 254484  | 107942   | 223642                                   |\n",
    "| 2014 | económicos  | 423755                 | 2747844                  | 5032446                                    | 1554471                 | 297508                                  | 116997            | 368512    | 2002024 | 50321    | 44059                                    |\n",
    "| 2014 | físicos     | 7245                   | 11959                    | 435573                                     | 17112                   | 3797                                     | 297462            | 52071     | 5589    | 830867   | 42138                                    |\n",
    "| 2014 | emocionales | 87660                  | 146363                   | 2207882                                    | 322448                  | 32340                                    | 2504258           | 4426627   | 159825  | 508671   | 963382                                   |\n",
    "| 2014 | laborales   | 14677                  | 8188                     | 52824                                      | 6083                    | 1711                                     | 47888             | 46224     | 15519   | 8483     | 12083                                    |\n",
    "| 2014 | ninguno     | 41701                  | 138670                   | 540803                                     | 392622                  | 11916                                    | 1290871           | 3400135   | 278258  | 129145   | 248090                                   |\n",
    "| 2015 | económicos  | 488623                 | 3337767                  | 5470710                                    | 1900055                 | 337754                                  | 113706            | 450312    | 2276987 | 72713    | 38912                                    |\n",
    "| 2015 | físicos     | 6925                   | 17577                    | 479263                                     | 18426                   | 3435                                     | 348315            | 59406     | 5509    | 981784   | 43736                                    |\n",
    "| 2015 | emocionales | 93154                  | 163579                   | 2470296                                    | 392209                  | 31571                                    | 2725778           | 4838605   | 191898  | 618542   | 1050344                                  |\n",
    "| 2015 | laborales   | 14647                  | 10463                    | 59394                                      | 9370                    | 1597                                     | 53247             | 54163     | 22093   | 8987     | 14241                                    |\n",
    "| 2015 | ninguno     | 39527                  | 168121                   | 605587                                     | 492492                  | 10954                                    | 1558572           | 3917845   | 329054  | 159424   | 284740                                   |\n",
    "| 2016 | económicos  | 600701                 | 3993474                  | 5889252                                    | 2223442                 | 418802                                  | 131644            | 518544    | 2649180 | 91363    | 41396                                    |\n",
    "| 2016 | físicos     | 7952                   | 20399                    | 553305                                     | 21343                   | 4937                                     | 433315            | 67431     | 6804    | 1120747  | 52955                                    |\n",
    "| 2016 | emocionales | 112117                 | 208330                   | 2925824                                    | 492000                  | 46110                                    | 3337838           | 5594818   | 239802  | 764217   | 1176798                                  |\n",
    "| 2016 | laborales   | 14150                  | 11700                    | 63968                                      | 9591                    | 2032                                     | 67623             | 66803     | 21771   | 12126    | 16402                                    |\n",
    "| 2016 | ninguno     | 40946                  | 202237                   | 663109                                     | 558956                  | 12311                                    | 1804912           | 4324340   | 356935  | 180150   | 318970                                   |\n",
    "| 2017 | económicos  | 764670                 | 4231182                  | 6801452                                    | 2771915                 | 550197                                  | 142653            | 642425    | 3382286 | 126205   | 41369                                    |\n",
    "| 2017 | físicos     | 13129                  | 27958                    | 673073                                     | 24528                   | 5912                                     | 480993            | 85688     | 9732    | 1342872  | 55157                                    |\n",
    "| 2017 | emocionales | 138336                 | 257063                   | 3651040                                    | 650916                  | 66177                                    | 3999005           | 6980797   | 322193  | 950799   | 1389445                                  |\n",
    "| 2017 | laborales   | 15600                  | 17409                    | 91571                                      | 10904                   | 2765                                     | 79611             | 93702     | 27812   | 12061    | 20710                                    |\n",
    "| 2017 | ninguno     | 46124                  | 232052                   | 852116                                     | 651764                  | 15166                                    | 1947611           | 5248676   | 449108  | 213413   | 386603                                   |\n",
    "| 2018 | económicos  | 927250                 | 4293735                  | 6959879                                    | 3152497                 | 642367                                  | 167603            | 658633    | 3778123 | 133037   | 49835                                    |\n",
    "| 2018 | físicos     | 13128                  | 23893                    | 658370                                     | 23109                   | 5510                                     | 497832            | 85354     | 9397    | 1383300  | 52816                                    |\n",
    "| 2018 | emocionales | 138367                 | 250175                   | 3579205                                    | 682041                  | 74529                                    | 4205891           | 6936926   | 329165  | 982020   | 1353018                                  |\n",
    "| 2018 | laborales   | 18557                  | 14559                    | 82147                                      | 13537                   | 3132                                     | 90292             | 94890     | 28225   | 11617    | 20378                                    |\n",
    "| 2018 | ninguno     | 53277                  | 257073                   | 896244                                     | 725597                  | 18454                                    | 2270317           | 5567430   | 489260  | 242683   | 436088                                   |\n",
    "| 2019 | económicos  | 1054784                | 4725424                  | 7904251                                    | 3438084                 | 769798                                  | 196056            | 719406    | 4127083 | 152202   | 54170                                    |\n",
    "| 2019 | físicos     | 15669                  | 32455                    | 757971                                     | 30303                   | 5925                                     | 553174            | 98191     | 11806   | 1477216  | 57322                                    |\n",
    "| 2019 | emocionales | 158865                 | 296211                   | 4271726                                    | 769020                  | 84911                                    | 4670606           | 7585692   | 376224  | 1080585  | 1490632                                  |\n",
    "| 2019 | laborales   | 19793                  | 17913                    | 104021                                     | 15828                   | 3073                                     | 107460            | 118455    | 32359   | 12419    | 23615                                    |\n",
    "| 2019 | ninguno     | 61796                  | 291486                   | 1026535                                    | 815445                  | 16836                                    | 2444534           | 6017582   | 564338  | 264779   | 475398                                   |\n",
    "| 2020 | económicos  | 759576                 | 3162751                  | 6033612                                    | 2180091                 | 514888                                  | 137040            | 498470    | 3090792 | 106042   | 37688                                    |\n",
    "| 2020 | físicos     | 13167                  | 23188                    | 531356                                     | 25972                   | 4834                                     | 411960            | 79479     | 9158    | 1070545  | 51761                                    |\n",
    "| 2020 | emocionales | 123973                 | 211051                   | 3428746                                    | 573858                  | 62543                                    | 3627942           | 5836046   | 296675  | 842286   | 1237685                                  |\n",
    "| 2020 | laborales   | 15902                  | 10110                    | 67445                                      | 11138                   | 2401                                     | 71961             | 65479     | 22168   | 9948     | 18612                                    |\n",
    "| 2020 | ninguno     | 46601                  | 185347                   | 676495                                     | 552688                  | 12804                                    | 1902321           | 4779611   | 399795  | 169189   | 328631                                   |\n",
    "| 2021 | económicos  | 729044                 | 3443061                  | 6451580                                    | 2185914                 | 543586                                  | 161768            | 571232    | 3122114 | 111496   | 36798                                    |\n",
    "| 2021 | físicos     | 12132                  | 29129                    | 603867                                     | 29491                   | 5530                                     | 418372            | 102678    | 12324   | 1192138  | 54996                                    |\n",
    "| 2021 | emocionales | 121502                 | 223914                   | 3533384                                    | 629696                  | 73164                                    | 3837964           | 6119188   | 347180  | 937157   | 1341074                                  |\n",
    "| 2021 | laborales   | 16932                  | 14422                    | 84112                                      | 14480                   | 3277                                     | 84318             | 88782     | 32164   | 11328    | 22533                                    |\n",
    "| 2021 | ninguno     | 52556                  | 201720                   | 789733                                     | 624057                  | 18755                                    | 2061314           | 5301079   | 473201  | 191032   | 439691                                   |\n",
    "\n",
    "\n"
   ]
  },
  {
   "cell_type": "markdown",
   "id": "a02dcc0a-08e0-4207-a876-e564a34ca601",
   "metadata": {},
   "source": [
    "Evidentemente, el esquema de trabajo que hemos aprendido hasta este momento no es el más conveniente. Nuestro problema principal es la manera en que tenemos estructurada nuestra tabla.\n",
    "\n",
    "Cuando tu tabla tiene una presentación como la anterior, en donde varias columnas tienen el mismo significido pero se diferencían por el nombre de la columna (regiones o los diferentes tipos de delito), decimos que se encuentra en **formato ancho, gordo, desordenado, despivoteado o no tidy**.\n",
    "\n",
    "Este tipo de tablas tienen la característica de que, para nosotros los humanos, son muy sencillas de leer e interpretar. Sin embargo, para las computadoras no.\n",
    "\n",
    "Comparemos con la siguiente tabla:\n",
    "\n",
    "<img src=\"im041.png\" style=\"display:block; margin:auto;\" width=\"400\">"
   ]
  },
  {
   "cell_type": "markdown",
   "id": "160c823c-f75a-4705-95f2-61c5e06cee0d",
   "metadata": {},
   "source": [
    "Como puedes observar, esta tabla es más complicada de leer para nosotros. No obstante, está en un formato perfecto para operarlo con Power Bi (y de hecho, con R, Python o SQL).\n",
    "\n",
    "A este tipo de formato se le llama **formato largo, pivoteado, ordenado o tidy**.\n",
    "\n",
    "En Power Bi, para pasar de un formato a otro tenemos la opción de **Anular dinamización de columnas** en el menú de **Transformar**\n",
    "\n",
    "<img src=\"im042.png\" style=\"display:block; margin:auto;\" width=\"700\">"
   ]
  }
 ],
 "metadata": {
  "kernelspec": {
   "display_name": "Python [conda env:base] *",
   "language": "python",
   "name": "conda-base-py"
  },
  "language_info": {
   "codemirror_mode": {
    "name": "ipython",
    "version": 3
   },
   "file_extension": ".py",
   "mimetype": "text/x-python",
   "name": "python",
   "nbconvert_exporter": "python",
   "pygments_lexer": "ipython3",
   "version": "3.12.3"
  }
 },
 "nbformat": 4,
 "nbformat_minor": 5
}
