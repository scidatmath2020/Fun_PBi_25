{
 "cells": [
  {
   "cell_type": "markdown",
   "id": "dcf39a34-6fe1-42f4-9184-aa9c9b87be67",
   "metadata": {},
   "source": [
    "![imagenes](logo.png)"
   ]
  },
  {
   "cell_type": "markdown",
   "id": "a0a48287-c2a9-46e7-9501-d9063ec5b9d1",
   "metadata": {},
   "source": [
    "# Perfilado y calidad de los datos\n",
    "\n",
    "Las herramientas de perfilado y calidad de los datos nos permiten explorar la calidad, composición y distribución de los datos antes de cargarlos al Front-End.\n",
    "\n",
    "En Power BI contamos con tres herramientas para este fin: **Calidad de columnas**, **Perfil de columnas** y **Distribución de columnas**, que se encuentran en el Menú **Vista** del **Editor de Consultas**\n",
    "\n",
    "<img src=\"im025.png\" style=\"display:block; margin:auto;\" width=\"800\">"
   ]
  },
  {
   "cell_type": "markdown",
   "id": "9e015a72-5b6a-4a4c-89d0-77eb5a752480",
   "metadata": {},
   "source": [
    "## Calidad de columnas\n",
    "\n",
    "Esta nos permite saber si hay errores en las columnas. \n",
    "\n",
    "Por ejemplo, recuerda que cuando se importa una tabla, Power Bi deduce el tipo de dato. Si tuvieras una columna con un, digamos, 90% de datos numéricos y el restante con datos de tipo texto, Power Bi notará un error, ya que no podrá convertir los textos a números.\n",
    "\n",
    "<img src=\"im026.png\" style=\"display:block; margin:auto;\" width=\"800\">"
   ]
  },
  {
   "cell_type": "markdown",
   "id": "fc5bafe1-ee8e-48ed-894a-1a3fa612231d",
   "metadata": {},
   "source": [
    "## Distribución de las columnas\n",
    "\n",
    "Esta herramienta nos permite visualizar una distribución estadística rápida de cada columna. De manera similar a las herramientas de calidad, disponemos de un menú para realizar acciones.\n",
    "\n",
    "<img src=\"im027.png\" style=\"display:block; margin:auto;\" width=\"800\">"
   ]
  },
  {
   "cell_type": "markdown",
   "id": "04b0c2af-7e5b-4818-8eed-3ec264d4829b",
   "metadata": {},
   "source": [
    "## Perfil de las columnas\n",
    "\n",
    "Nos permite echar un vistazo rápido a los resúmenes estadísticos.\n",
    "\n",
    "<img src=\"im028.png\" style=\"display:block; margin:auto;\" width=\"800\">"
   ]
  }
 ],
 "metadata": {
  "kernelspec": {
   "display_name": "Python [conda env:base] *",
   "language": "python",
   "name": "conda-base-py"
  },
  "language_info": {
   "codemirror_mode": {
    "name": "ipython",
    "version": 3
   },
   "file_extension": ".py",
   "mimetype": "text/x-python",
   "name": "python",
   "nbconvert_exporter": "python",
   "pygments_lexer": "ipython3",
   "version": "3.12.3"
  }
 },
 "nbformat": 4,
 "nbformat_minor": 5
}
