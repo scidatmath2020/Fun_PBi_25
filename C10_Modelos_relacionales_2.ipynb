{
 "cells": [
  {
   "cell_type": "markdown",
   "id": "068e5086-7f2e-43a6-99cc-8abf70a0c968",
   "metadata": {},
   "source": [
    "![imagenes](logo.png)"
   ]
  },
  {
   "cell_type": "markdown",
   "id": "877b8276-67ad-432a-b116-b702491e9153",
   "metadata": {},
   "source": [
    "# Modelos relacionales, parte 2\n",
    "\n",
    "## Conectando múltiples tablas de hechos\n",
    "\n",
    "Hasta este momento ya hemos aprendimos a tratar modelos con una única tabla de hechos, aunque es claro que en la realidad tendremos más de una. Observemos la siguiente situación, donde contamos con dos tablas de hechos:\n",
    "\n",
    "<img src=\"im075.png\" style=\"display:block; margin:auto;\" width=\"1200\">"
   ]
  },
  {
   "cell_type": "markdown",
   "id": "5f1a1c14-f4ad-4024-bcc5-0ffe3989e135",
   "metadata": {},
   "source": [
    "Observa que en teoría ambas tablas pueden ser relacionadas directamente mediante alguna de las columnas de fecha o territorio. Sin embargo, debido al *contexto*, que es un concepto que estudiaremos en la siguiente sección, es preferible conectar cada una a las tablas de dimensión y transmitir la información de una a otra mediante las tablas de dimensión compartidas. Esto es: **las tablas de hechos deben conectarse a través de tablas de dimensiones compartidas y no directamente entre ellas.**\n",
    "\n",
    "\n",
    "\n",
    "\n"
   ]
  },
  {
   "cell_type": "markdown",
   "id": "e1958bbf-0e1e-4223-911c-99aefb217561",
   "metadata": {},
   "source": [
    "De esta manera, vamos a dirigirnos a la **Vista de Informes** y **Agregar una nueva matriz**\n",
    "\n",
    "<img src=\"im076.png\" style=\"display:block; margin:auto;\" width=\"600\">"
   ]
  },
  {
   "cell_type": "markdown",
   "id": "a03e6539-3a08-4d98-92de-0f223123d62f",
   "metadata": {},
   "source": [
    "En **Valores** agregaremos los datos de ``OrderQuantity`` de las ventas y ``ReturnQuantity`` de las devoluciones. Esto significa que vamos a **desglosar** esta información mediante algún otro dato (fechas, territorios, etc.). \n",
    "\n",
    "En **Filas** agregaremos los datos de ``TerritoryKey`` de la tabla de territorios\n",
    "\n",
    "<img src=\"im077.png\" style=\"display:block; margin:auto;\" width=\"300\">"
   ]
  },
  {
   "cell_type": "markdown",
   "id": "226774ad-5ea9-4546-8ca5-92414d717ae3",
   "metadata": {},
   "source": [
    "Como resultado, estamos calculando el total de ítems vendidos y devueltos por cada territorio.\n",
    "\n",
    "Nota que si desactivas alguna de las relaciones de las tablas de hechos con la tabla de territorios, esta tabla deja de realizar los cálculos deseados."
   ]
  },
  {
   "cell_type": "markdown",
   "id": "a259f3aa-cdc7-43c3-bb8e-8c7cef2629be",
   "metadata": {},
   "source": [
    "## Contexto y flujo filtrados\n",
    "\n",
    "Echemos un vistazo nuevamente a nuestro modelo anterior:\n",
    "\n",
    "<img src=\"im078.png\" style=\"display:block; margin:auto;\" width=\"500\">"
   ]
  },
  {
   "cell_type": "markdown",
   "id": "4d13e6b5-7417-48e3-b80b-1a5874a9358a",
   "metadata": {},
   "source": [
    "Nota que cada relación contiene una *flecha*. Esta flecha indica la dirección del flujo de la información. Esto significa que cuando se envía la información de una tabla a otra, **todo el contexto de la primera es enviada a la otra tabla siguiendo el flujo de la flecha**.\n",
    "\n",
    "Es por esto que una buena manera de organizar las tablas dentro de la **Vista de modelos** es colocar hasta arriba en todas las tablas de dimensión y en la segunda línea a las tablas de hechos, de manera que te recuerda que la información fluye *río abajo*.\n",
    "\n",
    "Veamos un ejemplo concreto:\n",
    "\n",
    "<img src=\"im079.png\" style=\"display:block; margin:auto;\" width=\"1200\">"
   ]
  },
  {
   "cell_type": "markdown",
   "id": "679f64d1-69aa-43c5-9fb0-a945b69da9bf",
   "metadata": {},
   "source": [
    "## Filtros bidireccionales\n",
    "\n",
    "Podemos cambiar el flujo unidireccional de filtrado a un flujo bidireccional. Para ello, basta con editar la relación que deseamos cambiar.\n",
    "\n",
    "Al hacer esto, permitiríamos que la información pueda fluir desde una tabla de hechos hacia una tabla de dimensiones y por lo tanto llevar esta información a otra tabla de hechos. Sin embargo, esto puede ser peligroso: **no olvides que te llevas todo el contexto**.\n",
    "\n",
    "Por ejemplo, cambiemos el tipo de flujo de la relación entre Territorios y Ventas.\n",
    "\n",
    "<img src=\"im080.png\" style=\"display:block; margin:auto;\" width=\"1200\">"
   ]
  },
  {
   "cell_type": "markdown",
   "id": "65700a6c-8388-465c-87eb-c54a9fcba5cd",
   "metadata": {},
   "source": [
    "Notemos que utilizar como filtro a la columna ``TerritoryKey`` de **Ventas** ya no nos causa problema. Y se nota, **a ojo**, que utilizar ``TerritoryKey`` de **Devoluciones** nos produce problemas.\n",
    "\n",
    "Volvamos a dejar como filtro unidireccional a la relación entre Territorios y Ventas, y cambiemos a bidireccional la relación entre Territorios y Devoluciones. Veamos qué pasa.\n",
    "\n",
    "<img src=\"im081.png\" style=\"display:block; margin:auto;\" width=\"1200\">"
   ]
  },
  {
   "cell_type": "markdown",
   "id": "29fc8ac2-413d-4329-b0d2-458c416e755e",
   "metadata": {},
   "source": [
    "Como es de esperarse, la primera tabla es correcta y la segunda no. Pero, notemos que la tercera tabla **tampoco es correcta**, ya que no nos muestra la información de ventas en los territorios 1 y 2. Sin embargo, notar ese error puede ser complicado si no se está familiarizado con la base de datos. En este sentido es que dijimos más arriba que el uso de flujos dobles puede ser peligroso.\n",
    "\n",
    "### Ambigüedad\n",
    "\n",
    "Otro problema importante que se puede presentar al utilizar filtros dobles es lo que se conoce como **ambigüedad**. Este se presenta cuando tienes dos relaciones desde una tabla de dimensión hacia una tabla de hechos.\n",
    "\n",
    "<img src=\"im082.png\" style=\"display:block; margin:auto;\" width=\"400\">"
   ]
  },
  {
   "cell_type": "markdown",
   "id": "d5f8209a-6db4-447a-b4a0-8dafd07d43f5",
   "metadata": {},
   "source": [
    "El problema de la ambigüedad se presenta porque el modelo no sabe cómo llevar la información de una tabla a la otra debido a la presencia de diferentes contextos. \n",
    "\n",
    "Digamos que queremos conocer cuánto gané en total por todos los productos. La información de los precios la tenemos en la tabla de **Productos**. \n",
    "\n",
    "Si nos llevamos los precios desde la tabla **Productos** hacia la tabla **Ventas** mediante el ``ProductKey``, podríamos hacer el cálculo de la ganancia pues en **Ventas** tengo los productos vendidos.\n",
    "\n",
    "Pero si hacemos el flujo $$\\mbox{Product}\\to\\mbox{Returns}\\to\\mbox{Territory}\\to\\mbox{Sales}$$\n",
    "\n",
    "al pasar los precios desde **Productos** a **Devoluciones**, los precios de aquellos productos que no fueron devueltos no van a pasar, pues el contexto de la tabla de Devoluciones es únicamente productos que fueron devueltos.\n",
    "\n",
    "Por esta razón, **siempre intenta modelar utilizando relaciones una a muchas y de una sola dirección**."
   ]
  },
  {
   "cell_type": "markdown",
   "id": "f30fbb95-3133-41ac-aa9d-1882abbba94e",
   "metadata": {},
   "source": [
    "## Capas del modelo\n",
    "\n",
    "Las capas de modelos permiten a Power Bi separar nuestro modelo en submodelos con el fin de hacer más clara la visualización. Únicamente crean nuevas visulizaciones, y tienen la ventaja de que todas las visualizaciones están sincronizadas, de modo que si haces modificación en alguna capa, esta modificación se refleja en todo el modelo.\n",
    "\n",
    "<img src=\"im083.png\" style=\"display:block; margin:auto;\" width=\"1000\">"
   ]
  },
  {
   "cell_type": "markdown",
   "id": "484b8e9b-8aba-4f71-b9bc-3f4015088dbd",
   "metadata": {},
   "source": [
    "## Formato de datos y categorías\n",
    "\n",
    "Cuando cargamos nuestras tablas con el **Editor de Consultas**, parte del proceso es la definición del tipo de datos: si son numéricos, moneda, fechas, textos, etcétera. Este tipo de dato se define para ser utilizado dentro del Back-End del reporte. Es decir, le sirve a Power Bi para saber cómo gestionar cada columna.\n",
    "\n",
    "Pero cuando definimos el tipo de dato para la presentación del reporte (es decir, el Front-End), en realidad estamos hablando de **formatos**. Así que esencialmente un formato es cómo queremos que el dato se vea en el reporte y no cómo queremos gestionarlo.\n",
    "\n",
    "Por su parte, las categorías de datos indican cómo Power BI debe interpretar y usar los datos en visualizaciones, especialmente en mapas, URLs, y relaciones semánticas. Por ejemplo, cuando defines una columna como ``Ciudad``, Power BI sabe que puede usarla en un mapa. Si no la clasificas correctamente, Power BI puede no visualizarlo bien.\n",
    "\n",
    "Para manejar los formatos y categorías en Power Bi, lo podemos hacer desde la **Vista de modelos** o desde **Vista de tablas**. Esta última opción ya que es más parecida a la manera en que Excel lo hace.\n",
    "\n",
    "<img src=\"im084.png\" style=\"display:block; margin:auto;\" width=\"1500\">"
   ]
  },
  {
   "cell_type": "markdown",
   "id": "2424b716-f5ee-4de1-ab2e-399d57e15c60",
   "metadata": {},
   "source": [
    "## Jerarquías\n",
    "\n",
    "Finalmente, veamos qué son las jerarquías.\n",
    "\n",
    "Las jerarquías son grupos de columnas que reflejan diferentes niveles de granularidad. Por ejemplo, una jerarquía geográfica se puede representar como la desagregación de la información en país, estado y municipio. \n",
    "\n",
    "Y aquí lo importante es la palabra *desagregrar*. Es decir, podemos mostrar la información en diferentes niveles de una jerarquización. \n",
    "\n",
    "En Power Bi, las herramientas que utilizamos para estructurar jerarquías son **Crear Jerarquía** y **Agregar a la Jerarquía**.\n",
    "\n",
    "<img src=\"im085.png\" style=\"display:block; margin:auto;\" width=\"1500\">"
   ]
  }
 ],
 "metadata": {
  "kernelspec": {
   "display_name": "Python [conda env:base] *",
   "language": "python",
   "name": "conda-base-py"
  },
  "language_info": {
   "codemirror_mode": {
    "name": "ipython",
    "version": 3
   },
   "file_extension": ".py",
   "mimetype": "text/x-python",
   "name": "python",
   "nbconvert_exporter": "python",
   "pygments_lexer": "ipython3",
   "version": "3.12.3"
  }
 },
 "nbformat": 4,
 "nbformat_minor": 5
}
